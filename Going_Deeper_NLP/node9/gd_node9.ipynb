{
  "nbformat": 4,
  "nbformat_minor": 0,
  "metadata": {
    "colab": {
      "provenance": [],
      "gpuType": "T4",
      "authorship_tag": "ABX9TyNU+7rSH5hOvaXZElb65u8W",
      "include_colab_link": true
    },
    "kernelspec": {
      "name": "python3",
      "display_name": "Python 3"
    },
    "language_info": {
      "name": "python"
    },
    "accelerator": "GPU"
  },
  "cells": [
    {
      "cell_type": "markdown",
      "metadata": {
        "id": "view-in-github",
        "colab_type": "text"
      },
      "source": [
        "<a href=\"https://colab.research.google.com/github/JihyeLimm/Quest/blob/main/Going_Deeper_NLP/node9/gd_node9.ipynb\" target=\"_parent\"><img src=\"https://colab.research.google.com/assets/colab-badge.svg\" alt=\"Open In Colab\"/></a>"
      ]
    },
    {
      "cell_type": "markdown",
      "source": [
        "#9. 임베딩 내 편향성 알아보기\n",
        "1. 주어진 영화 코퍼스를 바탕으로 워드임베딩 모델을 정상적으로 만들었다.\n",
        ">워드임베딩의 most_similar() 메소드 결과가 의미상 바르게 나왔다.\n",
        "2. 영화 구분, 장르별로 target, attribute에 대한 대표성있는 단어 셋을 생성하였다.\n",
        ">타당한 방법론을 통해 중복이 잘 제거되고 개념축을 의미적으로 잘 대표하는 단어 셋이 만들어졌다.\n",
        "3. WEAT score 계산 및 시각화를 정상적으로 진행하였다.\n",
        ">전체 영화 장르별로 예술/일반 영화에 대한 편향성 WEAT score가 상식에 부합하는 수치로 얻어졌으며 이를 잘 시각화하였다."
      ],
      "metadata": {
        "id": "0ldrXlYxD5P2"
      }
    },
    {
      "cell_type": "code",
      "source": [
        "import os\n",
        "from google.colab import drive\n",
        "drive.mount('/gdrive', force_remount = True)\n",
        "os.chdir(\"/gdrive/MyDrive/AIFFEL/230629\")\n",
        "os.getcwd()"
      ],
      "metadata": {
        "colab": {
          "base_uri": "https://localhost:8080/",
          "height": 54
        },
        "id": "uA_qwZlVEZup",
        "outputId": "fcab7902-22f0-4057-cad9-a1d555579bc2"
      },
      "execution_count": null,
      "outputs": [
        {
          "output_type": "stream",
          "name": "stdout",
          "text": [
            "Mounted at /gdrive\n"
          ]
        },
        {
          "output_type": "execute_result",
          "data": {
            "text/plain": [
              "'/gdrive/MyDrive/AIFFEL/230629'"
            ],
            "application/vnd.google.colaboratory.intrinsic+json": {
              "type": "string"
            }
          },
          "metadata": {},
          "execution_count": 1
        }
      ]
    },
    {
      "cell_type": "code",
      "source": [
        "!pip install konlpy"
      ],
      "metadata": {
        "id": "mg2y4BFFE1rj"
      },
      "execution_count": null,
      "outputs": []
    },
    {
      "cell_type": "code",
      "source": [
        "import numpy as np\n",
        "import pandas as pd\n",
        "from numpy import dot\n",
        "from numpy.linalg import norm\n",
        "\n",
        "from konlpy.tag import Okt\n",
        "from gensim.models import Word2Vec\n",
        "from sklearn.feature_extraction.text import TfidfVectorizer\n",
        "from sklearn.feature_extraction.text import CountVectorizer\n",
        "import numpy as np\n",
        "\n",
        "from sklearn.decomposition import LatentDirichletAllocation\n",
        "\n",
        "import seaborn as sns\n",
        "#import matplotlib.pyplot as plt\n",
        "#%matplotlib inline"
      ],
      "metadata": {
        "id": "PoGqCqTDEbCb"
      },
      "execution_count": null,
      "outputs": []
    },
    {
      "cell_type": "markdown",
      "source": [
        "STEP 1. 형태소 분석기를 이용하여 품사가 명사인 경우 해당 단어를 추출하기"
      ],
      "metadata": {
        "id": "t4oeh5EkER2-"
      }
    },
    {
      "cell_type": "code",
      "execution_count": null,
      "metadata": {
        "colab": {
          "base_uri": "https://localhost:8080/"
        },
        "id": "ckMqq6RGDhis",
        "outputId": "7c9633ae-03dd-4b8d-a36e-e9ba7e4adae7"
      },
      "outputs": [
        {
          "output_type": "stream",
          "name": "stdout",
          "text": [
            "71156\n"
          ]
        },
        {
          "output_type": "execute_result",
          "data": {
            "text/plain": [
              "[['사운드', '엔지니어', '상우', '유지태', '분', '치매', '할머니', '백성희', '분'],\n",
              " ['시절', '상처', '아버지', '박인환', '분', '고모', '신신애', '분', '살'],\n",
              " ['겨울', '그', '지방', '방송국', '라디오', '은수', '이영애', '분', '를'],\n",
              " ['자연', '소리', '채집', '라디오', '프로그램', '준비', '은수', '상우', '녹음', '여행'],\n",
              " ['두', '사람', '날', '은수', '아파트', '밤']]"
            ]
          },
          "metadata": {},
          "execution_count": 4
        }
      ],
      "source": [
        "#synopsis.txt 파일을 읽어 품사가 명사인 경우만 남겨 tokenized라는 변수명으로 저장\n",
        "okt = Okt()\n",
        "tokenized = []\n",
        "with open('synopsis.txt', 'r') as file:\n",
        "    while True:\n",
        "        line = file.readline()\n",
        "        if not line: break\n",
        "        words = okt.pos(line, stem=True, norm=True)\n",
        "        res = []\n",
        "        for w in words:\n",
        "            if w[1] in [\"Noun\"]:      # \"Adjective\", \"Verb\" 등을 포함할 수도 있음\n",
        "                res.append(w[0])    # 명사일 때만 tokenized 에 저장\n",
        "        tokenized.append(res)\n",
        "\n",
        "print(len(tokenized))\n",
        "tokenized[:5]"
      ]
    },
    {
      "cell_type": "markdown",
      "source": [
        "STEP 2. 추출된 결과로 embedding model 만들기"
      ],
      "metadata": {
        "id": "HEwDIO9EEVgw"
      }
    },
    {
      "cell_type": "code",
      "source": [
        "# tokenized에 담긴 데이터를 가지고 나만의 Word2Vec을 생성합니다. (Gensim 4.0 기준)\n",
        "model = Word2Vec(tokenized, vector_size=100, window=5, min_count=3, sg=0)\n",
        "model.wv.most_similar(positive=['기술'])"
      ],
      "metadata": {
        "colab": {
          "base_uri": "https://localhost:8080/"
        },
        "id": "WbEBPpyhEWOV",
        "outputId": "437e725c-d863-4442-f199-084dae5dcbee"
      },
      "execution_count": null,
      "outputs": [
        {
          "output_type": "execute_result",
          "data": {
            "text/plain": [
              "[('실험', 0.8985767960548401),\n",
              " ('효과', 0.8917192816734314),\n",
              " ('시스템', 0.8825318813323975),\n",
              " ('에너지', 0.8803293108940125),\n",
              " ('제공', 0.8790849447250366),\n",
              " ('활용', 0.8747705817222595),\n",
              " ('사용', 0.8731818199157715),\n",
              " ('미디어', 0.8694151639938354),\n",
              " ('창조', 0.86156165599823),\n",
              " ('유전자', 0.8606051802635193)]"
            ]
          },
          "metadata": {},
          "execution_count": 5
        }
      ]
    },
    {
      "cell_type": "markdown",
      "source": [
        "STEP 3. target, attribute 단어 셋 만들기\n",
        "- 예술영화와 일반영화(상업영화)라는 영화구분을 target\n",
        "- 드라마 장르와 액션 장르라는 장르구분을 attribute\n",
        "\n",
        "[TFIDF의 한계]\n",
        ">TFIDF는 개별 문서에서 단어의 빈도수와 문서 전체에서의 등장 빈도수를 고려하기 때문에 다른 문서를 고려한 전체적인 개념축 반영이 어려움 -> 중복단어 발생\n",
        "\n",
        ">한 단어가 여러 개념을 포함하거나 여러 개념과 연결될 수 있는데 이런 다의성문제를 해결하기 어려움\n",
        "\n",
        ">sparse matrix의 한계가짐"
      ],
      "metadata": {
        "id": "87u_vCj6FLDg"
      }
    },
    {
      "cell_type": "markdown",
      "source": [
        "1. Target"
      ],
      "metadata": {
        "id": "_NJ9bAzjHELE"
      }
    },
    {
      "cell_type": "code",
      "source": [
        "#data load\n",
        "art_txt = 'synopsis_art.txt'\n",
        "gen_txt = 'synopsis_gen.txt'\n",
        "\n",
        "def read_token(file_name):\n",
        "    okt = Okt()\n",
        "    result = []\n",
        "    with open(file_name, 'r') as fread:\n",
        "        print(file_name, '파일을 읽고 있습니다.')\n",
        "        while True:\n",
        "            line = fread.readline()\n",
        "            if not line: break\n",
        "            tokenlist = okt.pos(line, stem=True, norm=True)\n",
        "            for word in tokenlist:\n",
        "                if word[1] in [\"Noun\"]:#, \"Adjective\", \"Verb\"]:\n",
        "                    result.append((word[0]))\n",
        "    return ' '.join(result)\n",
        "\n",
        "art = read_token(art_txt)\n",
        "gen = read_token(gen_txt)"
      ],
      "metadata": {
        "colab": {
          "base_uri": "https://localhost:8080/",
          "height": 72
        },
        "id": "ENqJLW5iFMd7",
        "outputId": "cd4df93b-6e21-4dc0-e99d-7b6ae21d1045"
      },
      "execution_count": null,
      "outputs": [
        {
          "output_type": "stream",
          "name": "stdout",
          "text": [
            "synopsis_art.txt 파일을 읽고 있습니다.\n",
            "synopsis_gen.txt 파일을 읽고 있습니다.\n"
          ]
        },
        {
          "output_type": "execute_result",
          "data": {
            "text/plain": [
              "'사운드'"
            ],
            "application/vnd.google.colaboratory.intrinsic+json": {
              "type": "string"
            }
          },
          "metadata": {},
          "execution_count": 6
        }
      ]
    },
    {
      "cell_type": "code",
      "source": [
        "#전처리 끝난 str저장\n",
        "f = open(\"art.txt\", 'w')\n",
        "f.write(str(art))\n",
        "f.close()\n",
        "\n",
        "f = open(\"gen.txt\", 'w')\n",
        "f.write(str(gen))\n",
        "f.close()\n",
        "\n",
        "print(art[:100], \"\\n\")\n",
        "print(gen[:100])"
      ],
      "metadata": {
        "colab": {
          "base_uri": "https://localhost:8080/"
        },
        "id": "VwgQnMheNWPP",
        "outputId": "80dee5c2-9442-4e1a-a08b-880ec9ec4188"
      },
      "execution_count": null,
      "outputs": [
        {
          "output_type": "stream",
          "name": "stdout",
          "text": [
            "사운드 엔지니어 상우 유지태 분 치매 할머니 백성희 분 시절 상처 아버지 박인환 분 고모 신신애 분 살 겨울 그 지방 방송국 라디오 은수 이영애 분 를 자연 소리 채집 라디오 프로 \n",
            "\n",
            "유사 연령 성별 빈부 차이 정치 입장 불문 국민 통합 온 애국심 성역 일침 다큐멘터리 재작년 전국 민족 민주 유가족 협의 회의 장기 농성 인상 다큐멘터리 민들레 를 독립영화 집단 \n"
          ]
        }
      ]
    },
    {
      "cell_type": "code",
      "source": [
        "#vertorizing\n",
        "def vecto(corpus):\n",
        "  tokens = corpus.split()# 단어 토큰화\n",
        "  vectorizer = CountVectorizer() # CountVectorizer를 이용하여 DTM 생성\n",
        "  dtm = vectorizer.fit_transform(tokens)\n",
        "\n",
        "  lda_model = LatentDirichletAllocation(n_components=5, random_state=0) # LDA 모델 학습\n",
        "  lda_model.fit(dtm)\n",
        "\n",
        "  topic_word_distributions = lda_model.components_\n",
        "  word_index = vectorizer.get_feature_names_out()\n",
        "  topics = [dict(zip(word_index, topic_dist)) for topic_dist in topic_word_distributions] # 학습된 LDA 모델을 통해 토픽-단어 분포 추출\n",
        "\n",
        "  representative_words = []\n",
        "  for topic in topics: # 대표단어 100개 추출\n",
        "      sorted_words = sorted(topic.items(), key=lambda x: x[1], reverse=True)[:20]\n",
        "      representative_words.extend([word for word, _ in sorted_words])\n",
        "\n",
        "  return representative_words"
      ],
      "metadata": {
        "id": "CvLHj5v1Q1m5"
      },
      "execution_count": null,
      "outputs": []
    },
    {
      "cell_type": "code",
      "source": [
        "w1_ = vecto(art)\n",
        "w2_ = vecto(gen)\n",
        "print(\"예술: \", w1_)\n",
        "print(\"일반: \", w2_)"
      ],
      "metadata": {
        "colab": {
          "base_uri": "https://localhost:8080/"
        },
        "id": "Q9nWPhUFSP6L",
        "outputId": "c4e64bae-120e-427b-d067-d089de8dc340"
      },
      "execution_count": null,
      "outputs": [
        {
          "output_type": "stream",
          "name": "stdout",
          "text": [
            "예술:  ['자신', '시작', '위해', '사랑', '이야기', '마을', '사건', '아이', '시간', '소녀', '아내', '여행', '발견', '비밀', '학교', '음악', '소년', '도시', '때문', '최고', '영화', '여자', '대한', '다른', '사실', '모두', '순간', '죽음', '한편', '위기', '이자', '과거', '상황', '미국', '만난', '처음', '가지', '상처', '목숨', '이유', '사람', '마음', '엄마', '모든', '서로', '아들', '영화제', '세계', '가장', '아빠', '생활', '이제', '현실', '지금', '단편', '여인', '준비', '국제', '동안', '존재', '그녀', '친구', '가족', '세상', '다시', '사이', '하나', '점점', '감독', '우리', '모습', '생각', '명의', '사고', '전쟁', '경찰', '간다', '이후', '충격', '어머니', '남자', '아버지', '과연', '남편', '인생', '마지막', '통해', '기억', '결혼', '결심', '운명', '이름', '인간', '누구', '계속', '할머니', '제안', '거리', '무엇', '바로']\n",
            "일반:  ['시작', '국제', '이야기', '대한', '다른', '아들', '모든', '단편', '세계', '아내', '소녀', '사이', '소년', '여행', '학교', '미국', '동안', '바로', '이후', '부산', '영화제', '남자', '가족', '모습', '발견', '하나', '여성', '죽음', '상황', '기억', '간다', '가지', '경찰', '주인공', '존재', '살인', '한국', '회사', '문제', '로부터', '사람', '친구', '사랑', '서울', '여자', '마을', '마음', '사실', '다시', '서로', '감독', '때문', '생활', '가장', '순간', '이제', '도시', '이자', '마지막', '현실', '그녀', '영화', '아이', '엄마', '인간', '모두', '비밀', '과거', '대해', '사고', '섹스', '위기', '계획', '조직', '부부', '무엇', '할머니', '혼자', '이상', '만난', '자신', '위해', '사건', '남편', '아버지', '시간', '작품', '통해', '생각', '세상', '관계', '우리', '애니메이션', '과연', '점점', '한편', '결혼', '명의', '전쟁', '연출']\n"
          ]
        }
      ]
    },
    {
      "cell_type": "code",
      "source": [
        "# w1에만 있고 w2에는 없는, 예술영화를 잘 대표하는 단어를 15개 추출\n",
        "#w1_ = ['자신', '시작', '위해', '사랑', '이야기', '마을', '사건', '아이', '시간', '소녀', '아내', '여행', '발견', '비밀', '학교', '음악', '소년', '도시', '때문', '최고', '영화', '여자', '대한', '다른', '사실', '모두', '순간', '죽음', '한편', '위기', '이자', '과거', '상황', '미국', '만난', '처음', '가지', '상처', '목숨', '이유', '사람', '마음', '엄마', '모든', '서로', '아들', '영화제', '세계', '가장', '아빠', '생활', '이제', '현실', '지금', '단편', '여인', '준비', '국제', '동안', '존재', '그녀', '친구', '가족', '세상', '다시', '사이', '하나', '점점', '감독', '우리', '모습', '생각', '명의', '사고', '전쟁', '경찰', '간다', '이후', '충격', '어머니', '남자', '아버지', '과연', '남편', '인생', '마지막', '통해', '기억', '결혼', '결심', '운명', '이름', '인간', '누구', '계속', '할머니', '제안', '거리', '무엇', '바로']\n",
        "#w2_ = ['시작', '국제', '이야기', '대한', '다른', '아들', '모든', '단편', '세계', '아내', '소녀', '사이', '소년', '여행', '학교', '미국', '동안', '바로', '이후', '부산', '영화제', '남자', '가족', '모습', '발견', '하나', '여성', '죽음', '상황', '기억', '간다', '가지', '경찰', '주인공', '존재', '살인', '한국', '회사', '문제', '로부터', '사람', '친구', '사랑', '서울', '여자', '마을', '마음', '사실', '다시', '서로', '감독', '때문', '생활', '가장', '순간', '이제', '도시', '이자', '마지막', '현실', '그녀', '영화', '아이', '엄마', '인간', '모두', '비밀', '과거', '대해', '사고', '섹스', '위기', '계획', '조직', '부부', '무엇', '할머니', '혼자', '이상', '만난', '자신', '위해', '사건', '남편', '아버지', '시간', '작품', '통해', '생각', '세상', '관계', '우리', '애니메이션', '과연', '점점', '한편', '결혼', '명의', '전쟁', '연출']\n",
        "\n",
        "n = 15\n",
        "target_art, target_gen = [], []\n",
        "for i in range(100):\n",
        "    if (w1_[i] not in w2_) and (w1_[i] in model.wv): target_art.append(w1_[i])\n",
        "    if len(target_art) == n: break\n",
        "\n",
        "# w2에만 있고 w1에는 없는, 일반영화를 잘 대표하는 단어를 15개 추출\n",
        "for i in range(100):\n",
        "    if (w2_[i] not in w1_) and (w2_[i] in model.wv): target_gen.append(w2_[i])\n",
        "    if len(target_gen) == n: break\n",
        "\n",
        "print(target_art)\n",
        "print(target_gen)"
      ],
      "metadata": {
        "colab": {
          "base_uri": "https://localhost:8080/"
        },
        "id": "3M83T4ebWm51",
        "outputId": "d26b4666-4f1c-415b-c415-a580f1063875"
      },
      "execution_count": null,
      "outputs": [
        {
          "output_type": "stream",
          "name": "stdout",
          "text": [
            "['음악', '최고', '처음', '상처', '목숨', '이유', '아빠', '지금', '여인', '준비', '충격', '어머니', '인생', '결심', '운명']\n",
            "['부산', '여성', '주인공', '살인', '한국', '회사', '문제', '로부터', '서울', '대해', '섹스', '계획', '조직', '부부', '혼자']\n"
          ]
        }
      ]
    },
    {
      "cell_type": "markdown",
      "source": [
        "2. Attribute"
      ],
      "metadata": {
        "id": "DWR6EKMZHnqq"
      }
    },
    {
      "cell_type": "code",
      "source": [
        "#data load\n",
        "genre_txt = ['synopsis_SF.txt', 'synopsis_family.txt', 'synopsis_show.txt', 'synopsis_horror.txt', 'synopsis_etc.txt',\n",
        "             'synopsis_documentary.txt', 'synopsis_drama.txt', 'synopsis_romance.txt', 'synopsis_musical.txt',\n",
        "             'synopsis_mystery.txt', 'synopsis_crime.txt', 'synopsis_historical.txt', 'synopsis_western.txt',\n",
        "             'synopsis_adult.txt', 'synopsis_thriller.txt', 'synopsis_animation.txt', 'synopsis_action.txt',\n",
        "             'synopsis_adventure.txt', 'synopsis_war.txt', 'synopsis_comedy.txt', 'synopsis_fantasy.txt']\n",
        "genre_name = ['SF', '가족', '공연', '공포(호러)', '기타', '다큐멘터리', '드라마', '멜로로맨스', '뮤지컬', '미스터리', '범죄', '사극', '서부극(웨스턴)',\n",
        "         '성인물(에로)', '스릴러', '애니메이션', '액션', '어드벤처', '전쟁', '코미디', '판타지']\n",
        "\n",
        "genre = []\n",
        "for file_name in genre_txt:\n",
        "    genre.append(read_token(file_name))"
      ],
      "metadata": {
        "colab": {
          "base_uri": "https://localhost:8080/"
        },
        "id": "bsnmfLiUHo53",
        "outputId": "ba81a5d9-2c55-4db3-fc75-677347d3bc9b"
      },
      "execution_count": null,
      "outputs": [
        {
          "output_type": "stream",
          "name": "stdout",
          "text": [
            "synopsis_SF.txt 파일을 읽고 있습니다.\n",
            "synopsis_family.txt 파일을 읽고 있습니다.\n",
            "synopsis_show.txt 파일을 읽고 있습니다.\n",
            "synopsis_horror.txt 파일을 읽고 있습니다.\n",
            "synopsis_etc.txt 파일을 읽고 있습니다.\n",
            "synopsis_documentary.txt 파일을 읽고 있습니다.\n",
            "synopsis_drama.txt 파일을 읽고 있습니다.\n",
            "synopsis_romance.txt 파일을 읽고 있습니다.\n",
            "synopsis_musical.txt 파일을 읽고 있습니다.\n",
            "synopsis_mystery.txt 파일을 읽고 있습니다.\n",
            "synopsis_crime.txt 파일을 읽고 있습니다.\n",
            "synopsis_historical.txt 파일을 읽고 있습니다.\n",
            "synopsis_western.txt 파일을 읽고 있습니다.\n",
            "synopsis_adult.txt 파일을 읽고 있습니다.\n",
            "synopsis_thriller.txt 파일을 읽고 있습니다.\n",
            "synopsis_animation.txt 파일을 읽고 있습니다.\n",
            "synopsis_action.txt 파일을 읽고 있습니다.\n",
            "synopsis_adventure.txt 파일을 읽고 있습니다.\n",
            "synopsis_war.txt 파일을 읽고 있습니다.\n",
            "synopsis_comedy.txt 파일을 읽고 있습니다.\n",
            "synopsis_fantasy.txt 파일을 읽고 있습니다.\n"
          ]
        }
      ]
    },
    {
      "cell_type": "code",
      "source": [
        "#각 장르를 대표하는 단어들을 추출\n",
        "vectorizer = TfidfVectorizer()\n",
        "X = vectorizer.fit_transform(genre)\n",
        "\n",
        "m = [X[i].tocoo() for i in range(X.shape[0])]\n",
        "\n",
        "w = [[[i, j] for i, j in zip(mm.col, mm.data)] for mm in m]\n",
        "\n",
        "for i in range(len(w)):\n",
        "    w[i].sort(key=lambda x: x[1], reverse=True)\n",
        "attributes = []\n",
        "\n",
        "\n",
        "#각 장르를 대표하는 단어들을 추출\n",
        "for i in range(len(w)):\n",
        "    print(genre_name[i], end=': ')\n",
        "    attr = []\n",
        "    j = 0\n",
        "    while (len(attr) < 15):\n",
        "        if vectorizer.get_feature_names_out()[w[i][j][0]] in model.wv:\n",
        "            attr.append(vectorizer.get_feature_names_out()[w[i][j][0]])\n",
        "            print(vectorizer.get_feature_names_out()[w[i][j][0]], end=', ')\n",
        "        j += 1\n",
        "    attributes.append(attr)\n",
        "    print()"
      ],
      "metadata": {
        "colab": {
          "base_uri": "https://localhost:8080/"
        },
        "id": "kKMWvD24W25G",
        "outputId": "ac6a7a0a-9f0c-4899-bbad-265d87e2fa86"
      },
      "execution_count": null,
      "outputs": [
        {
          "output_type": "stream",
          "name": "stdout",
          "text": [
            "SF: 위해, 자신, 지구, 시작, 사람, 인류, 인간, 미래, 우주, 그녀, 로봇, 세계, 모든, 박사, 우주선, \n",
            "가족: 엄마, 아빠, 가족, 영화제, 자신, 위해, 친구, 아주르, 아버지, 시작, 그녀, 아들, 마을, 국제, 낙타, \n",
            "공연: 오페라, 사랑, 토스카, 실황, 올레, 자신, 카바, 그녀, 공연, 오텔로, 리골레토, 백작, 프레, 베르디, 위해, \n",
            "공포(호러): 시작, 위해, 사람, 자신, 친구, 그녀, 사건, 공포, 발견, 죽음, 마을, 가족, 악령, 남자, 좀비, \n",
            "기타: 영화제, 국제, 서울, 단편, 영화, 자신, 사람, 이야기, 그녀, 남자, 위해, 시작, 사랑, 뉴미디어, 페스티벌, \n",
            "다큐멘터리: 영화제, 영화, 다큐, 국제, 다큐멘터리, 사람, 이야기, 대한, 자신, 감독, 위해, 서울, 우리, 시작, 세계, \n",
            "드라마: 자신, 영화제, 그녀, 사람, 사랑, 영화, 위해, 시작, 국제, 남자, 친구, 이야기, 엄마, 여자, 아버지, \n",
            "멜로로맨스: 그녀, 사랑, 자신, 시작, 남편, 남자, 여자, 사람, 친구, 섹스, 위해, 마음, 결혼, 서로, 아내, \n",
            "뮤지컬: 뮤지컬, 사랑, 에스메랄다, 그녀, 음악, 충무로, 모차르트, 영화, 토스카, 자신, 니웨, 카바, 영화제, 바흐, 페뷔스, \n",
            "미스터리: 사건, 그녀, 시작, 자신, 위해, 사람, 발견, 사고, 진실, 죽음, 기억, 살인, 친구, 아내, 남자, \n",
            "범죄: 사건, 위해, 자신, 경찰, 시작, 그녀, 범죄, 조직, 살인, 사람, 마약, 형사, 남자, 모든, 살해, \n",
            "사극: 조선, 위해, 시작, 신기전, 사랑, 자신, 아가멤논, 황제, 그녀, 루안, 최고, 운명, 사람, 하선, 전쟁, \n",
            "서부극(웨스턴): 서부, 보안관, 위해, 벌린, 카우보이, 그레이프바인, 헨리, 마을, 자신, 개릿, 아이, 시작, 무법자, 프린트, 마적, \n",
            "성인물(에로): 그녀, 남편, 마사지, 자신, 섹스, 관계, 영화, 정사, 남자, 위해, 시작, 여자, 유부녀, 마음, 사랑, \n",
            "스릴러: 자신, 그녀, 사건, 시작, 위해, 사람, 살인, 남자, 발견, 아내, 경찰, 친구, 모든, 사실, 살해, \n",
            "애니메이션: 애니메이션, 국제, 영화제, 친구, 인디애니페스트, 위해, 자신, 시작, 사람, 페스티벌, 서울, 이야기, 아이, 마을, 소녀, \n",
            "액션: 위해, 자신, 시작, 조직, 사건, 사람, 그녀, 경찰, 전쟁, 모든, 목숨, 사실, 친구, 가족, 요원, \n",
            "어드벤처: 위해, 자신, 시작, 친구, 마을, 아버지, 영화, 아이, 사람, 여행, 세계, 앤트, 세상, 가족, 모험, \n",
            "전쟁: 전쟁, 독일군, 전투, 위해, 작전, 시작, 부대, 윈터스, 독일, 연합군, 미군, 임무, 자신, 사람, 나치, \n",
            "코미디: 그녀, 자신, 시작, 위해, 사랑, 사람, 친구, 영화, 남자, 여자, 영화제, 가족, 과연, 마을, 사건, \n",
            "판타지: 자신, 그녀, 시작, 위해, 사람, 사랑, 요괴, 영화제, 이야기, 영화, 소녀, 남자, 인간, 세상, 마을, \n"
          ]
        }
      ]
    },
    {
      "cell_type": "markdown",
      "source": [
        "STEP 4. WEAT score 계산과 시각화"
      ],
      "metadata": {
        "id": "YaBOnFKnYVIz"
      }
    },
    {
      "cell_type": "code",
      "source": [
        "#관련 함수 선언\n",
        "def cos_sim(i, j):\n",
        "    return dot(i, j.T)/(norm(i)*norm(j))\n",
        "\n",
        "def s(w, A, B):\n",
        "    c_a = cos_sim(w, A)\n",
        "    c_b = cos_sim(w, B)\n",
        "    mean_A = np.mean(c_a, axis=-1)\n",
        "    mean_B = np.mean(c_b, axis=-1)\n",
        "    return mean_A - mean_B #, c_a, c_b\n",
        "\n",
        "def weat_score(X, Y, A, B):\n",
        "\n",
        "    s_X = s(X, A, B)\n",
        "    s_Y = s(Y, A, B)\n",
        "\n",
        "    mean_X = np.mean(s_X)\n",
        "    mean_Y = np.mean(s_Y)\n",
        "\n",
        "    std_dev = np.std(np.concatenate([s_X, s_Y], axis=0))\n",
        "\n",
        "    return  (mean_X-mean_Y)/std_dev"
      ],
      "metadata": {
        "id": "shqY8mRPYV49"
      },
      "execution_count": null,
      "outputs": []
    },
    {
      "cell_type": "code",
      "source": [
        "#WEAT score 계산\n",
        "matrix = [[0 for _ in range(len(genre_name))] for _ in range(len(genre_name))]\n",
        "\n",
        "X = np.array([model.wv[word] for word in target_art])\n",
        "Y = np.array([model.wv[word] for word in target_gen])\n",
        "\n",
        "for i in range(len(genre_name)-1):\n",
        "    for j in range(i+1, len(genre_name)):\n",
        "        A = np.array([model.wv[word] for word in attributes[i]])\n",
        "        B = np.array([model.wv[word] for word in attributes[j]])\n",
        "        matrix[i][j] = weat_score(X, Y, A, B)\n",
        "\n",
        "for i in range(len(genre_name)-1):\n",
        "    for j in range(i+1, len(genre_name)):\n",
        "        print(genre_name[i], genre_name[j],matrix[i][j])"
      ],
      "metadata": {
        "colab": {
          "base_uri": "https://localhost:8080/"
        },
        "id": "Xk2Q5QkyYYF-",
        "outputId": "a46272de-b396-4090-c3e2-e2007994d021"
      },
      "execution_count": null,
      "outputs": [
        {
          "output_type": "stream",
          "name": "stdout",
          "text": [
            "SF 가족 0.19460104\n",
            "SF 공연 0.21824183\n",
            "SF 공포(호러) 0.25475037\n",
            "SF 기타 0.61989075\n",
            "SF 다큐멘터리 0.49980566\n",
            "SF 드라마 0.25943765\n",
            "SF 멜로로맨스 0.10132297\n",
            "SF 뮤지컬 0.41400725\n",
            "SF 미스터리 0.21832082\n",
            "SF 범죄 0.7340775\n",
            "SF 사극 -0.10374234\n",
            "SF 서부극(웨스턴) 0.41617236\n",
            "SF 성인물(에로) 0.2946446\n",
            "SF 스릴러 0.44809332\n",
            "SF 애니메이션 0.5533117\n",
            "SF 액션 0.48426032\n",
            "SF 어드벤처 -0.18814969\n",
            "SF 전쟁 0.66725016\n",
            "SF 코미디 0.40093842\n",
            "SF 판타지 0.19922748\n",
            "가족 공연 -0.03970632\n",
            "가족 공포(호러) 0.017091526\n",
            "가족 기타 0.4971695\n",
            "가족 다큐멘터리 0.31059197\n",
            "가족 드라마 0.104678676\n",
            "가족 멜로로맨스 -0.07094141\n",
            "가족 뮤지컬 0.25052136\n",
            "가족 미스터리 0.029690638\n",
            "가족 범죄 0.44151607\n",
            "가족 사극 -0.29946327\n",
            "가족 서부극(웨스턴) 0.16056158\n",
            "가족 성인물(에로) 0.23123609\n",
            "가족 스릴러 0.27879688\n",
            "가족 애니메이션 0.45676774\n",
            "가족 액션 0.16765937\n",
            "가족 어드벤처 -0.66995484\n",
            "가족 전쟁 0.1711814\n",
            "가족 코미디 0.20754418\n",
            "가족 판타지 -0.054407027\n",
            "공연 공포(호러) 0.044383645\n",
            "공연 기타 0.8074293\n",
            "공연 다큐멘터리 0.45344293\n",
            "공연 드라마 0.16845499\n",
            "공연 멜로로맨스 -0.032819983\n",
            "공연 뮤지컬 0.46742815\n",
            "공연 미스터리 0.051093966\n",
            "공연 범죄 0.4675722\n",
            "공연 사극 -0.49683613\n",
            "공연 서부극(웨스턴) 0.17642234\n",
            "공연 성인물(에로) 0.27293685\n",
            "공연 스릴러 0.2695874\n",
            "공연 애니메이션 0.6116557\n",
            "공연 액션 0.1891597\n",
            "공연 어드벤처 -0.4824927\n",
            "공연 전쟁 0.2469254\n",
            "공연 코미디 0.27856815\n",
            "공연 판타지 -0.016915133\n",
            "공포(호러) 기타 0.38462135\n",
            "공포(호러) 다큐멘터리 0.25494486\n",
            "공포(호러) 드라마 0.057656858\n",
            "공포(호러) 멜로로맨스 -0.08267399\n",
            "공포(호러) 뮤지컬 0.19193374\n",
            "공포(호러) 미스터리 0.049235146\n",
            "공포(호러) 범죄 0.69378453\n",
            "공포(호러) 사극 -0.35592288\n",
            "공포(호러) 서부극(웨스턴) 0.10864664\n",
            "공포(호러) 성인물(에로) 0.20551395\n",
            "공포(호러) 스릴러 0.6227168\n",
            "공포(호러) 애니메이션 0.305771\n",
            "공포(호러) 액션 0.2715657\n",
            "공포(호러) 어드벤처 -0.5501709\n",
            "공포(호러) 전쟁 0.18277343\n",
            "공포(호러) 코미디 0.20034581\n",
            "공포(호러) 판타지 -0.06719192\n",
            "기타 다큐멘터리 -0.3052681\n",
            "기타 드라마 -0.7098783\n",
            "기타 멜로로맨스 -0.45083112\n",
            "기타 뮤지컬 -0.77998585\n",
            "기타 미스터리 -0.32793304\n",
            "기타 범죄 0.04378263\n",
            "기타 사극 -0.7895426\n",
            "기타 서부극(웨스턴) -0.4234545\n",
            "기타 성인물(에로) -0.24409452\n",
            "기타 스릴러 -0.15606529\n",
            "기타 애니메이션 -0.41351697\n",
            "기타 액션 -0.22111388\n",
            "기타 어드벤처 -0.92842066\n",
            "기타 전쟁 -0.18746519\n",
            "기타 코미디 -0.49614468\n",
            "기타 판타지 -0.88435924\n",
            "다큐멘터리 드라마 -0.36895505\n",
            "다큐멘터리 멜로로맨스 -0.2848294\n",
            "다큐멘터리 뮤지컬 -0.23428953\n",
            "다큐멘터리 미스터리 -0.21604224\n",
            "다큐멘터리 범죄 0.11152535\n",
            "다큐멘터리 사극 -0.57631683\n",
            "다큐멘터리 서부극(웨스턴) -0.25196558\n",
            "다큐멘터리 성인물(에로) -0.09984261\n",
            "다큐멘터리 스릴러 -0.06086776\n",
            "다큐멘터리 애니메이션 -0.019598452\n",
            "다큐멘터리 액션 -0.12382506\n",
            "다큐멘터리 어드벤처 -0.7296018\n",
            "다큐멘터리 전쟁 -0.092095606\n",
            "다큐멘터리 코미디 -0.2616185\n",
            "다큐멘터리 판타지 -0.58659995\n",
            "드라마 멜로로맨스 -0.16930695\n",
            "드라마 뮤지컬 0.30400866\n",
            "드라마 미스터리 -0.03372228\n",
            "드라마 범죄 0.3694346\n",
            "드라마 사극 -0.4314159\n",
            "드라마 서부극(웨스턴) 0.024859734\n",
            "드라마 성인물(에로) 0.24784295\n",
            "드라마 스릴러 0.20059718\n",
            "드라마 애니메이션 0.52618206\n",
            "드라마 액션 0.09515476\n",
            "드라마 어드벤처 -0.80541927\n",
            "드라마 전쟁 0.12063595\n",
            "드라마 코미디 0.19931713\n",
            "드라마 판타지 -0.2895028\n",
            "멜로로맨스 뮤지컬 0.25278333\n",
            "멜로로맨스 미스터리 0.09970541\n",
            "멜로로맨스 범죄 0.45586085\n",
            "멜로로맨스 사극 -0.18186995\n",
            "멜로로맨스 서부극(웨스턴) 0.13482282\n",
            "멜로로맨스 성인물(에로) 0.84566396\n",
            "멜로로맨스 스릴러 0.34631228\n",
            "멜로로맨스 애니메이션 0.33906528\n",
            "멜로로맨스 액션 0.18873462\n",
            "멜로로맨스 어드벤처 -0.29700226\n",
            "멜로로맨스 전쟁 0.1691307\n",
            "멜로로맨스 코미디 0.24847531\n",
            "멜로로맨스 판타지 0.023014832\n",
            "뮤지컬 미스터리 -0.16217206\n",
            "뮤지컬 범죄 0.16869849\n",
            "뮤지컬 사극 -0.54599994\n",
            "뮤지컬 서부극(웨스턴) -0.18300925\n",
            "뮤지컬 성인물(에로) -0.037861757\n",
            "뮤지컬 스릴러 -0.0044697104\n",
            "뮤지컬 애니메이션 0.17029741\n",
            "뮤지컬 액션 -0.06812713\n",
            "뮤지컬 어드벤처 -0.6417149\n",
            "뮤지컬 전쟁 -0.03141556\n",
            "뮤지컬 코미디 -0.1777858\n",
            "뮤지컬 판타지 -0.4554022\n",
            "미스터리 범죄 0.735961\n",
            "미스터리 사극 -0.30358928\n",
            "미스터리 서부극(웨스턴) 0.061349705\n",
            "미스터리 성인물(에로) 0.19314304\n",
            "미스터리 스릴러 0.90915155\n",
            "미스터리 애니메이션 0.24707599\n",
            "미스터리 액션 0.2309107\n",
            "미스터리 어드벤처 -0.42348084\n",
            "미스터리 전쟁 0.15185681\n",
            "미스터리 코미디 0.1314371\n",
            "미스터리 판타지 -0.06801747\n",
            "범죄 사극 -0.7865265\n",
            "범죄 서부극(웨스턴) -0.50208825\n",
            "범죄 성인물(에로) -0.22798678\n",
            "범죄 스릴러 -0.5755285\n",
            "범죄 애니메이션 -0.13351953\n",
            "범죄 액션 -0.9874042\n",
            "범죄 어드벤처 -0.70177865\n",
            "범죄 전쟁 -0.3516156\n",
            "범죄 코미디 -0.40341118\n",
            "범죄 판타지 -0.4430134\n",
            "사극 서부극(웨스턴) 0.62890106\n",
            "사극 성인물(에로) 0.43324202\n",
            "사극 스릴러 0.5647094\n",
            "사극 애니메이션 0.68928057\n",
            "사극 액션 0.5527742\n",
            "사극 어드벤처 -0.15910713\n",
            "사극 전쟁 0.59813166\n",
            "사극 코미디 0.67937803\n",
            "사극 판타지 0.32861853\n",
            "서부극(웨스턴) 성인물(에로) 0.1355279\n",
            "서부극(웨스턴) 스릴러 0.24345861\n",
            "서부극(웨스턴) 애니메이션 0.3532364\n",
            "서부극(웨스턴) 액션 0.13602781\n",
            "서부극(웨스턴) 어드벤처 -0.8617688\n",
            "서부극(웨스턴) 전쟁 0.16950457\n",
            "서부극(웨스턴) 코미디 0.08777604\n",
            "서부극(웨스턴) 판타지 -0.1671693\n",
            "성인물(에로) 스릴러 0.03417316\n",
            "성인물(에로) 애니메이션 0.10887018\n",
            "성인물(에로) 액션 -0.044916622\n",
            "성인물(에로) 어드벤처 -0.53777725\n",
            "성인물(에로) 전쟁 -0.0007305726\n",
            "성인물(에로) 코미디 -0.1410966\n",
            "성인물(에로) 판타지 -0.28511402\n",
            "스릴러 애니메이션 0.06502122\n",
            "스릴러 액션 -0.20982745\n",
            "스릴러 어드벤처 -0.6164746\n",
            "스릴러 전쟁 -0.032072842\n",
            "스릴러 코미디 -0.18595926\n",
            "스릴러 판타지 -0.28351474\n",
            "애니메이션 액션 -0.13808118\n",
            "애니메이션 어드벤처 -0.98251593\n",
            "애니메이션 전쟁 -0.09643642\n",
            "애니메이션 코미디 -0.3471312\n",
            "애니메이션 판타지 -0.7502345\n",
            "액션 어드벤처 -0.52654636\n",
            "액션 전쟁 0.07295562\n",
            "액션 코미디 -0.053810485\n",
            "액션 판타지 -0.18479846\n",
            "어드벤처 전쟁 0.47004104\n",
            "어드벤처 코미디 1.0809193\n",
            "어드벤처 판타지 0.7470674\n",
            "전쟁 코미디 -0.08965087\n",
            "전쟁 판타지 -0.20552807\n",
            "코미디 판타지 -0.47591266\n"
          ]
        }
      ]
    },
    {
      "cell_type": "code",
      "source": [
        "np.random.seed(0)\n",
        "\n",
        "fe = fm.FontEntry(\n",
        "    fname=r'NanumGothic.ttf', # path to .ttf\n",
        "    name='nanum')                        # what you want to name that font\n",
        "fm.fontManager.ttflist.insert(0, fe)              # add the font to Matplotlib\n",
        "plt.rcParams.update({'font.size': 5, 'font.family': 'nanum'}) # set the font\n",
        "\n",
        "plt.rcParams['axes.unicode_minus'] = False\n",
        "\n",
        "ax = sns.heatmap(matrix, xticklabels=genre_name, yticklabels=genre_name, annot=True,  cmap='RdYlGn_r')\n",
        "ax"
      ],
      "metadata": {
        "colab": {
          "base_uri": "https://localhost:8080/",
          "height": 535
        },
        "id": "H-oGYX8qmp_M",
        "outputId": "055e615c-4269-44f2-85d6-eee967cf8796"
      },
      "execution_count": 99,
      "outputs": [
        {
          "output_type": "execute_result",
          "data": {
            "text/plain": [
              "<Axes: >"
            ]
          },
          "metadata": {},
          "execution_count": 99
        },
        {
          "output_type": "display_data",
          "data": {
            "text/plain": [
              "<Figure size 640x480 with 2 Axes>"
            ],
            "image/png": "[encoded data removed]"
          },
          "metadata": {}
        }
      ]
    }
  ]
}