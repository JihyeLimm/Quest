{
  "nbformat": 4,
  "nbformat_minor": 0,
  "metadata": {
    "colab": {
      "provenance": [],
      "gpuType": "T4",
      "authorship_tag": "ABX9TyNc5qfUJ2Yz+ujdq/NmvVE6",
      "include_colab_link": true
    },
    "kernelspec": {
      "name": "python3",
      "display_name": "Python 3"
    },
    "language_info": {
      "name": "python"
    },
    "accelerator": "GPU"
  },
  "cells": [
    {
      "cell_type": "markdown",
      "metadata": {
        "id": "view-in-github",
        "colab_type": "text"
      },
      "source": [
        "<a href=\"https://colab.research.google.com/github/JihyeLimm/Quest/blob/main/Going_Deeper_NLP/node3/GD_node3.ipynb\" target=\"_parent\"><img src=\"https://colab.research.google.com/assets/colab-badge.svg\" alt=\"Open In Colab\"/></a>"
      ]
    },
    {
      "cell_type": "markdown",
      "source": [
        "#3. 멋진 단어사전 만들기 [프로젝트] - SentencePiece 사용하기\n",
        "1. SentencePiece를 이용하여 모델을 만들기까지의 과정이 정상적으로 진행되었는가?\n",
        ">코퍼스 분석, 전처리, SentencePiece 적용, 토크나이저 구현 및 동작이 빠짐없이 진행되었는가?\n",
        "2. SentencePiece를 통해 만든 Tokenizer가 자연어처리 모델과 결합하여 동작하는가?\n",
        ">SentencePiece 토크나이저가 적용된 Text Classifier 모델이 정상적으로 수렴하여 80% 이상의 test accuracy가 확인되었다.\n",
        "3. SentencePiece의 성능을 다각도로 비교분석하였는가?\n",
        "\t>SentencePiece 토크나이저를 활용했을 때의 성능을 다른 토크나이저 혹은 SentencePiece의 다른 옵션의 경우와 비교하여 분석을 체계적으로 진행하였다.\n"
      ],
      "metadata": {
        "id": "H3EBnP5E85P_"
      }
    },
    {
      "cell_type": "markdown",
      "source": [
        "라이브러리"
      ],
      "metadata": {
        "id": "DiAtSnlvIy_C"
      }
    },
    {
      "cell_type": "code",
      "source": [
        "import os\n",
        "import keras\n",
        "import urllib.request\n",
        "import tensorflow as tf\n",
        "import random\n",
        "import numpy as np\n",
        "import matplotlib.pyplot as plt\n",
        "import pandas as pd\n",
        "\n",
        "from tensorflow import keras\n",
        "from tensorflow.keras import layers\n",
        "from tensorflow.keras.initializers import Constant\n",
        "from keras.utils import pad_sequences\n",
        "from keras.layers import Input, Embedding, GRU, Dense\n",
        "from keras.models import Model\n",
        "\n",
        "%matplotlib inline\n",
        "!pip install sentencepiece"
      ],
      "metadata": {
        "colab": {
          "base_uri": "https://localhost:8080/"
        },
        "id": "Jkea66HA9f5t",
        "outputId": "89970bc2-e8db-484a-c68c-ea2cb7c684e5"
      },
      "execution_count": 16,
      "outputs": [
        {
          "output_type": "stream",
          "name": "stdout",
          "text": [
            "Looking in indexes: https://pypi.org/simple, https://us-python.pkg.dev/colab-wheels/public/simple/\n",
            "Requirement already satisfied: sentencepiece in /usr/local/lib/python3.10/dist-packages (0.1.99)\n"
          ]
        }
      ]
    },
    {
      "cell_type": "markdown",
      "source": [
        "데이터 불러오기: 네이버 영화리뷰 감정 분석 코퍼스"
      ],
      "metadata": {
        "id": "8VlPmpXLAt1a"
      }
    },
    {
      "cell_type": "code",
      "source": [
        "import os\n",
        "from google.colab import drive\n",
        "drive.mount('/gdrive', force_remount = True)\n",
        "os.chdir(\"/gdrive/MyDrive/AIFFEL/230623\")\n",
        "os.getcwd()"
      ],
      "metadata": {
        "colab": {
          "base_uri": "https://localhost:8080/",
          "height": 54
        },
        "id": "sloqHwBULENM",
        "outputId": "7fc09b11-4eae-47dd-eea8-f5112c6a9f75"
      },
      "execution_count": 2,
      "outputs": [
        {
          "output_type": "stream",
          "name": "stdout",
          "text": [
            "Mounted at /gdrive\n"
          ]
        },
        {
          "output_type": "execute_result",
          "data": {
            "text/plain": [
              "'/gdrive/MyDrive/AIFFEL/230623'"
            ],
            "application/vnd.google.colaboratory.intrinsic+json": {
              "type": "string"
            }
          },
          "metadata": {},
          "execution_count": 2
        }
      ]
    },
    {
      "cell_type": "code",
      "source": [
        "#데이터 불러오기\n",
        "train_data = pd.read_table('/gdrive/MyDrive/AIFFEL/230522/data/ratings_train.txt')\n",
        "test_data = pd.read_table('/gdrive/MyDrive/AIFFEL/230522/data/ratings_test.txt')\n",
        "\n",
        "#data shuffle\n",
        "train_data = train_data.sample(frac=1)\n",
        "\n",
        "print(train_data.shape, test_data.shape, \"\\n\")\n",
        "train_data.head(3)"
      ],
      "metadata": {
        "colab": {
          "base_uri": "https://localhost:8080/",
          "height": 180
        },
        "id": "h2WJYRhBMNS9",
        "outputId": "dbc3ceaa-1fa4-4be8-d02b-df0eb38eba31"
      },
      "execution_count": 94,
      "outputs": [
        {
          "output_type": "stream",
          "name": "stdout",
          "text": [
            "(150000, 3) (50000, 3) \n",
            "\n"
          ]
        },
        {
          "output_type": "execute_result",
          "data": {
            "text/plain": [
              "             id                                           document  label\n",
              "20246   8703881  이게뻔한 스토리인가요? 영국마인드인지 뭔지 모르겠는데 공감도 힘들고 개연성도 도무지...      0\n",
              "146993  4690458             어려운 상황에서도 최선을 다해서 노력했던 7인의 감.동.적.인 이야기      1\n",
              "98119   1822317               싸구려 sf물 볼거리가 없으면 스토리라도 신경써서 만들었어야...      0"
            ],
            "text/html": [
              "\n",
              "  <div id=\"df-15407130-c017-4dc4-a017-2209f6134dd5\">\n",
              "    <div class=\"colab-df-container\">\n",
              "      <div>\n",
              "<style scoped>\n",
              "    .dataframe tbody tr th:only-of-type {\n",
              "        vertical-align: middle;\n",
              "    }\n",
              "\n",
              "    .dataframe tbody tr th {\n",
              "        vertical-align: top;\n",
              "    }\n",
              "\n",
              "    .dataframe thead th {\n",
              "        text-align: right;\n",
              "    }\n",
              "</style>\n",
              "<table border=\"1\" class=\"dataframe\">\n",
              "  <thead>\n",
              "    <tr style=\"text-align: right;\">\n",
              "      <th></th>\n",
              "      <th>id</th>\n",
              "      <th>document</th>\n",
              "      <th>label</th>\n",
              "    </tr>\n",
              "  </thead>\n",
              "  <tbody>\n",
              "    <tr>\n",
              "      <th>20246</th>\n",
              "      <td>8703881</td>\n",
              "      <td>이게뻔한 스토리인가요? 영국마인드인지 뭔지 모르겠는데 공감도 힘들고 개연성도 도무지...</td>\n",
              "      <td>0</td>\n",
              "    </tr>\n",
              "    <tr>\n",
              "      <th>146993</th>\n",
              "      <td>4690458</td>\n",
              "      <td>어려운 상황에서도 최선을 다해서 노력했던 7인의 감.동.적.인 이야기</td>\n",
              "      <td>1</td>\n",
              "    </tr>\n",
              "    <tr>\n",
              "      <th>98119</th>\n",
              "      <td>1822317</td>\n",
              "      <td>싸구려 sf물 볼거리가 없으면 스토리라도 신경써서 만들었어야...</td>\n",
              "      <td>0</td>\n",
              "    </tr>\n",
              "  </tbody>\n",
              "</table>\n",
              "</div>\n",
              "      <button class=\"colab-df-convert\" onclick=\"convertToInteractive('df-15407130-c017-4dc4-a017-2209f6134dd5')\"\n",
              "              title=\"Convert this dataframe to an interactive table.\"\n",
              "              style=\"display:none;\">\n",
              "        \n",
              "  <svg xmlns=\"http://www.w3.org/2000/svg\" height=\"24px\"viewBox=\"0 0 24 24\"\n",
              "       width=\"24px\">\n",
              "    <path d=\"M0 0h24v24H0V0z\" fill=\"none\"/>\n",
              "    <path d=\"M18.56 5.44l.94 2.06.94-2.06 2.06-.94-2.06-.94-.94-2.06-.94 2.06-2.06.94zm-11 1L8.5 8.5l.94-2.06 2.06-.94-2.06-.94L8.5 2.5l-.94 2.06-2.06.94zm10 10l.94 2.06.94-2.06 2.06-.94-2.06-.94-.94-2.06-.94 2.06-2.06.94z\"/><path d=\"M17.41 7.96l-1.37-1.37c-.4-.4-.92-.59-1.43-.59-.52 0-1.04.2-1.43.59L10.3 9.45l-7.72 7.72c-.78.78-.78 2.05 0 2.83L4 21.41c.39.39.9.59 1.41.59.51 0 1.02-.2 1.41-.59l7.78-7.78 2.81-2.81c.8-.78.8-2.07 0-2.86zM5.41 20L4 18.59l7.72-7.72 1.47 1.35L5.41 20z\"/>\n",
              "  </svg>\n",
              "      </button>\n",
              "      \n",
              "  <style>\n",
              "    .colab-df-container {\n",
              "      display:flex;\n",
              "      flex-wrap:wrap;\n",
              "      gap: 12px;\n",
              "    }\n",
              "\n",
              "    .colab-df-convert {\n",
              "      background-color: #E8F0FE;\n",
              "      border: none;\n",
              "      border-radius: 50%;\n",
              "      cursor: pointer;\n",
              "      display: none;\n",
              "      fill: #1967D2;\n",
              "      height: 32px;\n",
              "      padding: 0 0 0 0;\n",
              "      width: 32px;\n",
              "    }\n",
              "\n",
              "    .colab-df-convert:hover {\n",
              "      background-color: #E2EBFA;\n",
              "      box-shadow: 0px 1px 2px rgba(60, 64, 67, 0.3), 0px 1px 3px 1px rgba(60, 64, 67, 0.15);\n",
              "      fill: #174EA6;\n",
              "    }\n",
              "\n",
              "    [theme=dark] .colab-df-convert {\n",
              "      background-color: #3B4455;\n",
              "      fill: #D2E3FC;\n",
              "    }\n",
              "\n",
              "    [theme=dark] .colab-df-convert:hover {\n",
              "      background-color: #434B5C;\n",
              "      box-shadow: 0px 1px 3px 1px rgba(0, 0, 0, 0.15);\n",
              "      filter: drop-shadow(0px 1px 2px rgba(0, 0, 0, 0.3));\n",
              "      fill: #FFFFFF;\n",
              "    }\n",
              "  </style>\n",
              "\n",
              "      <script>\n",
              "        const buttonEl =\n",
              "          document.querySelector('#df-15407130-c017-4dc4-a017-2209f6134dd5 button.colab-df-convert');\n",
              "        buttonEl.style.display =\n",
              "          google.colab.kernel.accessAllowed ? 'block' : 'none';\n",
              "\n",
              "        async function convertToInteractive(key) {\n",
              "          const element = document.querySelector('#df-15407130-c017-4dc4-a017-2209f6134dd5');\n",
              "          const dataTable =\n",
              "            await google.colab.kernel.invokeFunction('convertToInteractive',\n",
              "                                                     [key], {});\n",
              "          if (!dataTable) return;\n",
              "\n",
              "          const docLinkHtml = 'Like what you see? Visit the ' +\n",
              "            '<a target=\"_blank\" href=https://colab.research.google.com/notebooks/data_table.ipynb>data table notebook</a>'\n",
              "            + ' to learn more about interactive tables.';\n",
              "          element.innerHTML = '';\n",
              "          dataTable['output_type'] = 'display_data';\n",
              "          await google.colab.output.renderOutput(dataTable, element);\n",
              "          const docLink = document.createElement('div');\n",
              "          docLink.innerHTML = docLinkHtml;\n",
              "          element.appendChild(docLink);\n",
              "        }\n",
              "      </script>\n",
              "    </div>\n",
              "  </div>\n",
              "  "
            ]
          },
          "metadata": {},
          "execution_count": 94
        }
      ]
    },
    {
      "cell_type": "code",
      "source": [
        "#학습을 위해 text저장\n",
        "#NaN 결측치 제거\n",
        "train_data = train_data.dropna(how = 'any')\n",
        "\n",
        "#학습을 위해 text저장\n",
        "with open(\"temp_output.txt\", 'w', encoding = 'utf-8') as f:\n",
        "  for line in train_data.document.values:\n",
        "    try:\n",
        "      f.write(line + '\\n')\n",
        "    except TypeError as TE:\n",
        "      print(line, TE)\n",
        "\n",
        "#데이터 가져오기\n",
        "with open(\"temp_output.txt\", 'r', encoding = 'utf-8') as f:\n",
        "  nsmc_text = f.read().split('\\n')\n",
        "print(nsmc_text[0])"
      ],
      "metadata": {
        "id": "LBXytQ3VbYzU"
      },
      "execution_count": 10,
      "outputs": []
    },
    {
      "cell_type": "markdown",
      "source": [
        "corpus 분석 및 전처리"
      ],
      "metadata": {
        "id": "mF2tkB9QSas_"
      }
    },
    {
      "cell_type": "code",
      "source": [
        "#train_data = train_data.dropna(how = 'any')\n",
        "raw = []\n",
        "for sent in train_data[\"document\"]:\n",
        "  raw.append(sent)\n",
        "\n",
        "print(\"Data Size:\", len(raw))\n",
        "print(\"Example:\")\n",
        "for sen in raw[0:100][::20]: print(\">>\", sen)"
      ],
      "metadata": {
        "colab": {
          "base_uri": "https://localhost:8080/"
        },
        "id": "OafoAtvZKLok",
        "outputId": "ec4ff3ba-b60d-4696-a82c-a5d235cad3cf"
      },
      "execution_count": 95,
      "outputs": [
        {
          "output_type": "stream",
          "name": "stdout",
          "text": [
            "Data Size: 149995\n",
            "Example:\n",
            ">> 이게뻔한 스토리인가요? 영국마인드인지 뭔지 모르겠는데 공감도 힘들고 개연성도 도무지 이해가 안되네요 배경2점 배우2점\n",
            ">> 정말 재밌네요 진짜 ㅋㅋㅋ흥미진진\n",
            ">> 차라리 트와일라잇이 더 재밌는거같다..\n",
            ">> 백성현이 최악. 그 역할도 문제고, 연기자체도 문제다. 그 인물과 사건만 들어내면 어땠을까\n",
            ">> 오우~ 대단하다 나도 한때 광팬이었음~ 경빈박씨 연기 지대로다~\n"
          ]
        }
      ]
    },
    {
      "cell_type": "code",
      "source": [
        "#최단 길이, 최장 길이, 평균 길이를 구한 후 문장 길이 분포를 막대그래프로 표현\n",
        "min_len = 999\n",
        "max_len = 0\n",
        "sum_len = 0\n",
        "\n",
        "for sen in raw:\n",
        "    length = len(sen)\n",
        "    if min_len > length: min_len = length\n",
        "    if max_len < length: max_len = length\n",
        "    sum_len += length\n",
        "\n",
        "print(\"문장의 최단 길이:\", min_len)\n",
        "print(\"문장의 최장 길이:\", max_len)\n",
        "print(\"문장의 평균 길이:\", sum_len // len(raw))\n",
        "\n",
        "sentence_length = np.zeros((max_len), dtype=int)\n",
        "\n",
        "for sen in raw:\n",
        "    sentence_length[len(sen)-1] += 1\n",
        "\n",
        "plt.bar(range(max_len), sentence_length, width=1.0)\n",
        "plt.title(\"Sentence Length Distribution\")\n",
        "plt.show()"
      ],
      "metadata": {
        "colab": {
          "base_uri": "https://localhost:8080/",
          "height": 507
        },
        "id": "vc0uJenfL5_S",
        "outputId": "06386b82-384e-4b35-f8d1-6839b6afb659"
      },
      "execution_count": 96,
      "outputs": [
        {
          "output_type": "stream",
          "name": "stdout",
          "text": [
            "문장의 최단 길이: 1\n",
            "문장의 최장 길이: 146\n",
            "문장의 평균 길이: 35\n"
          ]
        },
        {
          "output_type": "display_data",
          "data": {
            "text/plain": [
              "<Figure size 640x480 with 1 Axes>"
            ],
            "image/png": "[encoded data removed]"
          },
          "metadata": {}
        }
      ]
    },
    {
      "cell_type": "code",
      "source": [
        "#길이가 1인 문장확인\n",
        "def check_sentence_with_length(raw, length):\n",
        "    count = 0\n",
        "\n",
        "    for sen in raw:\n",
        "        if len(sen) == length:\n",
        "            print(sen)\n",
        "            count += 1\n",
        "            if count > 100: return\n",
        "\n",
        "check_sentence_with_length(raw, 1)"
      ],
      "metadata": {
        "id": "yt5p_BHlMJja"
      },
      "execution_count": null,
      "outputs": []
    },
    {
      "cell_type": "code",
      "source": [
        "#중복 제거는 Python의 기본 자료형 set을 활용\n",
        "min_len = 999\n",
        "max_len = 0\n",
        "sum_len = 0\n",
        "\n",
        "cleaned_corpus = list(set(raw))  # set를 사용해서 중복을 제거\n",
        "print(\"Data Size:\", len(cleaned_corpus))   #Data Size: 146182\n",
        "\n",
        "for sen in cleaned_corpus:\n",
        "    length = len(sen)\n",
        "    if min_len > length: min_len = length\n",
        "    if max_len < length: max_len = length\n",
        "    sum_len += length\n",
        "\n",
        "print(\"문장의 최단 길이:\", min_len)\n",
        "print(\"문장의 최장 길이:\", max_len)\n",
        "print(\"문장의 평균 길이:\", sum_len // len(cleaned_corpus))\n",
        "\n",
        "sentence_length = np.zeros((max_len), dtype=int)\n",
        "\n",
        "for sen in cleaned_corpus:   # 중복이 제거된 코퍼스 기준\n",
        "    sentence_length[len(sen)-1] += 1\n",
        "\n",
        "plt.bar(range(max_len), sentence_length, width=1.0)\n",
        "plt.title(\"Sentence Length Distribution\")\n",
        "plt.show()"
      ],
      "metadata": {
        "colab": {
          "base_uri": "https://localhost:8080/",
          "height": 526
        },
        "id": "He5YAPKwMqJo",
        "outputId": "be7cf8b5-8e58-470d-99e7-957aea70af17"
      },
      "execution_count": 98,
      "outputs": [
        {
          "output_type": "stream",
          "name": "stdout",
          "text": [
            "Data Size: 146182\n",
            "문장의 최단 길이: 1\n",
            "문장의 최장 길이: 146\n",
            "문장의 평균 길이: 35\n"
          ]
        },
        {
          "output_type": "display_data",
          "data": {
            "text/plain": [
              "<Figure size 640x480 with 1 Axes>"
            ],
            "image/png": "[encoded data removed]"
          },
          "metadata": {}
        }
      ]
    },
    {
      "cell_type": "code",
      "source": [
        "#가장 긴 데이터를 기준으로 Padding 처리 -> 길이 150 이상의 데이터, 길이가 10 미만인 데이터를 제거하고 사용\n",
        "max_len = 67\n",
        "min_len = 1\n",
        "\n",
        "# 길이 조건에 맞는 문장만 선택\n",
        "filtered_corpus = [s for s in cleaned_corpus if (len(s) < max_len) & (len(s) >= min_len)]\n",
        "\n",
        "# 분포도\n",
        "sentence_length = np.zeros((max_len), dtype=int)\n",
        "\n",
        "for sen in filtered_corpus:\n",
        "    sentence_length[len(sen)-1] += 1\n",
        "\n",
        "plt.bar(range(max_len), sentence_length, width=1.0)\n",
        "plt.title(\"Sentence Length Distribution\")\n",
        "plt.show()"
      ],
      "metadata": {
        "colab": {
          "base_uri": "https://localhost:8080/",
          "height": 452
        },
        "id": "wCvABuIlMxIP",
        "outputId": "30b9c91f-30ab-4a88-aa2d-4778f0c10e61"
      },
      "execution_count": 99,
      "outputs": [
        {
          "output_type": "display_data",
          "data": {
            "text/plain": [
              "<Figure size 640x480 with 1 Axes>"
            ],
            "image/png": "[encoded data removed]"
          },
          "metadata": {}
        }
      ]
    },
    {
      "cell_type": "markdown",
      "source": [
        "네이버 영화리뷰 감정 분석 코퍼스에 SentencePiece를 적용시킨 모델 학습\n"
      ],
      "metadata": {
        "id": "P9hCmapG_rhP"
      }
    },
    {
      "cell_type": "code",
      "execution_count": 100,
      "metadata": {
        "colab": {
          "base_uri": "https://localhost:8080/"
        },
        "id": "EWFEKGLy8neT",
        "outputId": "951f7dae-f11b-4398-8ef3-831325ab42f3"
      },
      "outputs": [
        {
          "output_type": "stream",
          "name": "stdout",
          "text": [
            "-rw------- 1 root root 617980 Jun 26 07:35 korean_spm.model\n",
            "-rw------- 1 root root 398238 Jun 26 07:35 korean_spm.vocab\n"
          ]
        }
      ],
      "source": [
        "#SentencePiece 모델을 학습import sentencepiece as spm\n",
        "temp_file = \"/gdrive/MyDrive/AIFFEL/230623/temp_output.txt\"\n",
        "\n",
        "vocab_size = 10000\n",
        "\n",
        "with open(temp_file, 'w') as f:\n",
        "    for row in filtered_corpus:   # 이전에 나왔던 정제했던 corpus를 활용해서 진행해야 합니다.\n",
        "        f.write(str(row) + '\\n')\n",
        "\n",
        "spm.SentencePieceTrainer.Train(\n",
        "    '--input={} --model_prefix=korean_spm --vocab_size={}'.format(temp_file, vocab_size)\n",
        ")\n",
        "#위 Train에서  --model_type = unigram이 디폴트 적용되어 있습니다. --model_type = bpe로 옵션을 주어 변경할 수 있습니다.\n",
        "\n",
        "!ls -l korean_spm*"
      ]
    },
    {
      "cell_type": "code",
      "source": [
        "#SentencePiece 모델 활용\n",
        "s = spm.SentencePieceProcessor()\n",
        "s.Load('korean_spm.model')\n",
        "\n",
        "# SentencePiece를 활용한 sentence -> encoding\n",
        "tokensIDs = s.EncodeAsIds('여자주인공 스타일이 코트는 영아니요 여자 주윤발도이니고 ㅡ.ㅡ 차라리 가죽점퍼가더낳을듯....')\n",
        "print(tokensIDs)\n",
        "\n",
        "# SentencePiece를 활용한 sentence -> encoded pieces\n",
        "print(s.encode_as_pieces('여자주인공 스타일이 코트는 영아니요 여자 주윤발도이니고 ㅡ.ㅡ 차라리 가죽점퍼가더낳을듯....'))\n",
        "\n",
        "# SentencePiece를 활용한 encoding -> sentence 복원\n",
        "print(s.decode_ids(tokensIDs))"
      ],
      "metadata": {
        "colab": {
          "base_uri": "https://localhost:8080/"
        },
        "id": "X4kPgHPG_XhS",
        "outputId": "d53f6228-2151-4724-e329-f41e73be43f3"
      },
      "execution_count": 114,
      "outputs": [
        {
          "output_type": "stream",
          "name": "stdout",
          "text": [
            "[4668, 7477, 1648, 482, 268, 786, 1273, 309, 596, 4278, 267, 264, 332, 273, 1285, 260, 696, 855, 259, 266, 1009, 290, 1516, 266, 495, 8736, 1861, 298]\n",
            "['▁여자주인공', '▁스타일이', '▁코', '트', '는', '▁영', '아니', '요', '▁여자', '▁주윤발', '도', '이', '니', '고', '▁ᅳ', '.', 'ᅳ', '▁차라리', '▁', '가', '죽', '점', '퍼', '가', '더', '낳', '을듯', '....']\n",
            "여자주인공 스타일이 코트는 영아니요 여자 주윤발도이니고 ᅳ.ᅳ 차라리 가죽점퍼가더낳을듯....\n"
          ]
        }
      ]
    },
    {
      "cell_type": "markdown",
      "source": [
        "Tokenizer 함수 작성: 학습된 모델로 sp_tokenize() 메소드 구현"
      ],
      "metadata": {
        "id": "TIYiFpA-NbYt"
      }
    },
    {
      "cell_type": "code",
      "source": [
        "def sp_tokenize(s, corpus):\n",
        "\n",
        "    tensor = []\n",
        "\n",
        "    for sen in corpus:\n",
        "        tensor.append(s.EncodeAsIds(sen))\n",
        "\n",
        "    with open(\"./korean_spm.vocab\", 'r') as f:\n",
        "        vocab = f.readlines()\n",
        "\n",
        "    word_index = {}\n",
        "    index_word = {}\n",
        "\n",
        "    for idx, line in enumerate(vocab):\n",
        "        word = line.split(\"\\t\")[0]\n",
        "\n",
        "        word_index.update({word:idx})\n",
        "        index_word.update({idx:word})\n",
        "\n",
        "    tensor = tf.keras.preprocessing.sequence.pad_sequences(tensor, padding='pre')\n",
        "\n",
        "    return tensor, word_index, index_word"
      ],
      "metadata": {
        "id": "vbE_lzCuNbDg"
      },
      "execution_count": 129,
      "outputs": []
    },
    {
      "cell_type": "markdown",
      "source": [
        "구현된 토크나이저를 적용하여 네이버 영화리뷰 감정 분석 모델을 재학습"
      ],
      "metadata": {
        "id": "xanvhhnK1yic"
      }
    },
    {
      "cell_type": "code",
      "source": [
        "#데이터 전처리 및 word_to_index 생성\n",
        "s = spm.SentencePieceProcessor()\n",
        "s.Load('korean_spm.model')\n",
        "tokenizer = sp_tokenize(s, corpus)\n",
        "\n",
        "def load_data(train_data, test_data, s):\n",
        "\n",
        "\n",
        "  #데이터 중복제거\n",
        "  train_data.drop_duplicates(subset=['document'], inplace=True)\n",
        "  test_data.drop_duplicates(subset=['document'], inplace=True)\n",
        "\n",
        "  #NaN 결측치 제거\n",
        "  train_data = train_data.dropna(how = 'any')\n",
        "  test_data = test_data.dropna(how = 'any')\n",
        "\n",
        "  #토큰화\n",
        "  X_train = []\n",
        "  for sen in train_data['document']:\n",
        "    X_train.append(sen)\n",
        "  X_train, word_index, index_word = sp_tokenize(s, X_train)\n",
        "\n",
        "  X_test = []\n",
        "  for sen in test_data['document']:\n",
        "    X_test.append(sen)\n",
        "  X_test, bb, cc = sp_tokenize(s, X_test)\n",
        "\n",
        "  word_to_index = word_index\n",
        "  index_to_word  = index_word\n",
        "\n",
        "  return X_train, np.array(list(train_data['label'])), X_test, np.array(list(test_data['label'])), word_to_index, index_to_word\n",
        "\n",
        "X_train, y_train, X_test, y_test, word_to_index, index_to_word = load_data(train_data, test_data, s)\n",
        "\n",
        "print(len(X_train))  #146182\n",
        "print(len(X_test))   #49157\n",
        "print(len(index_to_word))  #10000\n",
        "print(X_train[0])"
      ],
      "metadata": {
        "colab": {
          "base_uri": "https://localhost:8080/"
        },
        "id": "atj2R3u-1ZIB",
        "outputId": "8996c68f-9bf8-4573-d652-4bb7a18a5a68"
      },
      "execution_count": 132,
      "outputs": [
        {
          "output_type": "stream",
          "name": "stdout",
          "text": [
            "146182\n",
            "49157\n",
            "10000\n",
            "[   0    0    0    0    0    0    0    0    0    0    0    0    0    0\n",
            "    0    0    0    0    0    0    0    0    0    0    0    0    0    0\n",
            "    0    0    0    0    0    0    0    0    0    0    0    0    0    0\n",
            "    0    0    0    0    0    0    0    0    0    0    0    0    0    0\n",
            "    0    0    0    0    0    0    0    0    0    0    0    0    0    0\n",
            "    0    0    0    0    0    0    0    0    0    0    0    0    0    0\n",
            "    0    0    0    0    0    0    0    0    0    0    0    0    0    0\n",
            "    0    0    0    0    0    0    0    0    0    0    0    0    0    0\n",
            "    0    0    0    0    0    0    0    0    0    0    0    0    0    0\n",
            "    0    0    0    0    0    0    0    0    0    0    0    0    0    0\n",
            "    0    0    0  367 5691  369 3081  274 2942 8219  647 2019 1969  407\n",
            "  887  267 1863  273 5591 6185  980 1775  321 1717  443  290  533  443\n",
            "  290]\n"
          ]
        }
      ]
    },
    {
      "cell_type": "code",
      "source": [
        "#딕셔너리를 {텍스트:인덱스}구조로 변환\n",
        "word_to_index = {word:index for index, word in index_to_word.items()}\n",
        "print(word_to_index['나'])"
      ],
      "metadata": {
        "colab": {
          "base_uri": "https://localhost:8080/"
        },
        "id": "PTwEh41_BJew",
        "outputId": "8eb2218f-b0ea-47f5-98b7-74ab70d62ed7"
      },
      "execution_count": 133,
      "outputs": [
        {
          "output_type": "stream",
          "name": "stdout",
          "text": [
            "288\n"
          ]
        }
      ]
    },
    {
      "cell_type": "markdown",
      "source": [
        "Validation set 구성"
      ],
      "metadata": {
        "id": "bkYzTX1ZB1A3"
      }
    },
    {
      "cell_type": "code",
      "source": [
        "#validation set 분리\n",
        "x_val = X_train[:20000]\n",
        "y_val = y_train[:20000]\n",
        "\n",
        "partial_x_train = X_train[20000:]\n",
        "partial_y_train = y_train[20000:]\n",
        "\n",
        "print(partial_x_train.shape)\n",
        "print(partial_y_train.shape)"
      ],
      "metadata": {
        "colab": {
          "base_uri": "https://localhost:8080/"
        },
        "id": "WQOguqcFBuiZ",
        "outputId": "41871d0b-3745-483e-8ef0-d71925e12584"
      },
      "execution_count": 134,
      "outputs": [
        {
          "output_type": "stream",
          "name": "stdout",
          "text": [
            "(126182, 169)\n",
            "(126182,)\n"
          ]
        }
      ]
    },
    {
      "cell_type": "markdown",
      "source": [
        "모델구성"
      ],
      "metadata": {
        "id": "Vv3fMISvCBib"
      }
    },
    {
      "cell_type": "code",
      "source": [
        "vocab_size = 10000\n",
        "word_vector_dim = 100\n",
        "\n",
        "inputs = keras.Input(shape=(None,), dtype=\"int64\")\n",
        "x = layers.Embedding(vocab_size, word_vector_dim)(inputs)\n",
        "x = layers.LSTM(128)(x)\n",
        "x = layers.Dropout(0.5)(x)\n",
        "x = layers.Dense(64, activation = 'relu')(x)\n",
        "x = layers.Dropout(0.5)(x)\n",
        "outputs = layers.Dense(1, activation=\"sigmoid\")(x)\n",
        "model = keras.Model(inputs, outputs)\n",
        "model.summary()"
      ],
      "metadata": {
        "colab": {
          "base_uri": "https://localhost:8080/"
        },
        "id": "ydWLvE_ZhAUE",
        "outputId": "ce34d2c1-e55e-4f50-f13d-6544c6fb0247"
      },
      "execution_count": 135,
      "outputs": [
        {
          "output_type": "stream",
          "name": "stdout",
          "text": [
            "Model: \"model_14\"\n",
            "_________________________________________________________________\n",
            " Layer (type)                Output Shape              Param #   \n",
            "=================================================================\n",
            " input_15 (InputLayer)       [(None, None)]            0         \n",
            "                                                                 \n",
            " embedding_14 (Embedding)    (None, None, 100)         1000000   \n",
            "                                                                 \n",
            " lstm_14 (LSTM)              (None, 128)               117248    \n",
            "                                                                 \n",
            " dropout_25 (Dropout)        (None, 128)               0         \n",
            "                                                                 \n",
            " dense_31 (Dense)            (None, 64)                8256      \n",
            "                                                                 \n",
            " dropout_26 (Dropout)        (None, 64)                0         \n",
            "                                                                 \n",
            " dense_32 (Dense)            (None, 1)                 65        \n",
            "                                                                 \n",
            "=================================================================\n",
            "Total params: 1,125,569\n",
            "Trainable params: 1,125,569\n",
            "Non-trainable params: 0\n",
            "_________________________________________________________________\n"
          ]
        }
      ]
    },
    {
      "cell_type": "code",
      "source": [
        "#모델학습\n",
        "callbacks = [\n",
        "    keras.callbacks.EarlyStopping(monitor = \"val_loss\", verbose = 1, patience = 4),\n",
        "    keras.callbacks.ModelCheckpoint(\"naver_1723.keras\",\n",
        "                                    save_best_only=True)\n",
        "]\n",
        "\n",
        "model.compile(optimizer = 'rmsprop',\n",
        "              loss = 'binary_crossentropy',\n",
        "              metrics = ['accuracy'])\n",
        "\n",
        "history = model.fit(partial_x_train,\n",
        "                    partial_y_train,\n",
        "                    epochs=20,\n",
        "                    batch_size=64,\n",
        "                    validation_data=(x_val, y_val),\n",
        "                    verbose=1,\n",
        "                    callbacks = callbacks)\n",
        "\n",
        "#테스트셋으로 모델 평가\n",
        "model = keras.models.load_model(\"naver_1723.keras\")\n",
        "print(f\"테스트 accuracy: {model.evaluate(X_test, y_test)[1]:.2f}\")"
      ],
      "metadata": {
        "colab": {
          "base_uri": "https://localhost:8080/"
        },
        "id": "OMXdxQV-KjBT",
        "outputId": "33e2c8d8-b17d-4bed-9e90-5d16422a8460"
      },
      "execution_count": 138,
      "outputs": [
        {
          "output_type": "stream",
          "name": "stdout",
          "text": [
            "Epoch 1/20\n",
            "1972/1972 [==============================] - 84s 31ms/step - loss: 0.4324 - accuracy: 0.8003 - val_loss: 0.3565 - val_accuracy: 0.8473\n",
            "Epoch 2/20\n",
            "1972/1972 [==============================] - 27s 14ms/step - loss: 0.3381 - accuracy: 0.8587 - val_loss: 0.3317 - val_accuracy: 0.8552\n",
            "Epoch 3/20\n",
            "1972/1972 [==============================] - 27s 14ms/step - loss: 0.3073 - accuracy: 0.8740 - val_loss: 0.3285 - val_accuracy: 0.8579\n",
            "Epoch 4/20\n",
            "1972/1972 [==============================] - 23s 12ms/step - loss: 0.2836 - accuracy: 0.8853 - val_loss: 0.3295 - val_accuracy: 0.8628\n",
            "Epoch 5/20\n",
            "1972/1972 [==============================] - 23s 12ms/step - loss: 0.2648 - accuracy: 0.8958 - val_loss: 0.3289 - val_accuracy: 0.8636\n",
            "Epoch 6/20\n",
            "1972/1972 [==============================] - 23s 11ms/step - loss: 0.2473 - accuracy: 0.9041 - val_loss: 0.3439 - val_accuracy: 0.8626\n",
            "Epoch 7/20\n",
            "1972/1972 [==============================] - 23s 12ms/step - loss: 0.2326 - accuracy: 0.9121 - val_loss: 0.3402 - val_accuracy: 0.8622\n",
            "Epoch 7: early stopping\n",
            "1537/1537 [==============================] - 11s 7ms/step - loss: 0.3336 - accuracy: 0.8567\n",
            "테스트 accuracy: 0.86\n"
          ]
        }
      ]
    },
    {
      "cell_type": "markdown",
      "source": [
        "모델학습 및 그래프 시각화"
      ],
      "metadata": {
        "id": "mlrMtAN6CWfk"
      }
    },
    {
      "cell_type": "code",
      "source": [
        "#history변수에 저장된 매 epoch rain/validation loss, accuracy 그래프 그리기\n",
        "\n",
        "history_dict = history.history\n",
        "\n",
        "acc = history_dict['accuracy']\n",
        "val_acc = history_dict['val_accuracy']\n",
        "loss = history_dict['loss']\n",
        "val_loss = history_dict['val_loss']\n",
        "\n",
        "epochs = range(1, len(acc) + 1)\n",
        "\n",
        "plt.figure(figsize=(12,4))\n",
        "\n",
        "#training & validation loss graph\n",
        "\n",
        "plt.subplot(1,2,1)\n",
        "plt.plot(epochs, loss, 'bo', label='Training loss') # \"bo\"는 \"파란색 점\"입니다\n",
        "plt.plot(epochs, val_loss, 'b', label='Validation loss') # b는 \"파란 실선\"입니다\n",
        "plt.title('Training and validation loss')\n",
        "plt.xlabel('Epochs')\n",
        "plt.ylabel('Loss')\n",
        "plt.legend()\n",
        "\n",
        "#training & validation Accuracy graph\n",
        "plt.subplot(1,2,2)\n",
        "plt.plot(epochs, acc, 'bo', label='Training acc')\n",
        "plt.plot(epochs, val_acc, 'b', label='Validation acc')\n",
        "plt.title('Training and validation accuracy')\n",
        "plt.xlabel('Epochs')\n",
        "plt.ylabel('Accuracy')\n",
        "plt.legend()\n",
        "\n",
        "plt.show()"
      ],
      "metadata": {
        "colab": {
          "base_uri": "https://localhost:8080/",
          "height": 368
        },
        "id": "vby30UOiCd_9",
        "outputId": "04b0eaf5-0b25-4796-bb58-68085f8f3f4c"
      },
      "execution_count": 139,
      "outputs": [
        {
          "output_type": "display_data",
          "data": {
            "text/plain": [
              "<Figure size 1200x400 with 2 Axes>"
            ],
            "image/png": "[encoded data removed]"
          },
          "metadata": {}
        }
      ]
    },
    {
      "cell_type": "markdown",
      "source": [
        "#KoNLPy 형태소 분석기를 사용: Mecab()"
      ],
      "metadata": {
        "id": "SXpucvPcNr7p"
      }
    },
    {
      "cell_type": "markdown",
      "source": [
        "Mecab설치"
      ],
      "metadata": {
        "id": "G5ZBLdeAPAgZ"
      }
    },
    {
      "cell_type": "code",
      "source": [
        "import os\n",
        "from google.colab import drive\n",
        "drive.mount('/gdrive', force_remount = True)\n",
        "os.chdir(\"/gdrive/MyDrive/AIFFEL/230522/Mecab-ko-for-Google-Colab\")\n",
        "os.getcwd()\n",
        "\n",
        "!bash install_mecab-ko_on_colab_light_220429.sh\n",
        "\n",
        "from konlpy.tag import Mecab\n",
        "\n",
        "mecab = Mecab()\n",
        "print(mecab.morphs('자연어처리가너무재밌어서밥먹는것도가끔까먹어요'))"
      ],
      "metadata": {
        "id": "FeDarZ38_jA4"
      },
      "execution_count": null,
      "outputs": []
    },
    {
      "cell_type": "code",
      "source": [
        "#데이터 불러오기\n",
        "train_data = pd.read_table('/gdrive/MyDrive/AIFFEL/230522/data/ratings_train.txt')\n",
        "test_data = pd.read_table('/gdrive/MyDrive/AIFFEL/230522/data/ratings_test.txt')\n",
        "\n",
        "#data shuffle\n",
        "train_data = train_data.sample(frac=1)\n",
        "\n",
        "print(train_data.shape, test_data.shape, \"\\n\")\n",
        "train_data.head(3)"
      ],
      "metadata": {
        "id": "3iudlVFnPirB"
      },
      "execution_count": null,
      "outputs": []
    },
    {
      "cell_type": "markdown",
      "source": [
        "데이터 전처리"
      ],
      "metadata": {
        "id": "hHTIoLYjQz3-"
      }
    },
    {
      "cell_type": "code",
      "source": [
        "tokenizer = Mecab()\n",
        "stopwords = ['의','가','이','은','들','는','좀','잘','걍','과','도','를','으로','자','에','와','한','하다']\n",
        "num_words = 10000\n",
        "\n",
        "def load_data(train_data, test_data, num_words = num_words):\n",
        "  #데이터 중복제거\n",
        "  train_data.drop_duplicates(subset=['document'], inplace=True)\n",
        "  test_data.drop_duplicates(subset=['document'], inplace=True)\n",
        "\n",
        "  #NaN 결측치 제거\n",
        "  train_data = train_data.dropna(how = 'any')\n",
        "  test_data = test_data.dropna(how = 'any')\n",
        "\n",
        "  #토큰화 및 불용어 제거\n",
        "  X_train = []\n",
        "  for sentence in train_data['document']:\n",
        "    temp_X = tokenizer.morphs(sentence)   # 한국어 토크나이저로 토큰화\n",
        "    temp_X = [word for word in temp_X if not word in stopwords]  # 불용어(Stopwords) 제거\n",
        "    X_train.append(temp_X)\n",
        "\n",
        "  X_test = []\n",
        "  for sentence in test_data['document']:\n",
        "    temp_X = tokenizer.morphs(sentence)   # 한국어 토크나이저로 토큰화\n",
        "    temp_X = [word for word in temp_X if not word in stopwords]  # 불용어(Stopwords) 제거\n",
        "    X_test.append(temp_X)\n",
        "\n",
        "  words = np.concatenate(X_train).tolist()\n",
        "  counter = Counter(words)\n",
        "  counter = counter.most_common(num_words-4)\n",
        "  vocab = ['', '', '', ''] + [key for key, _ in counter]\n",
        "  word_to_index = {word:index for index, word in enumerate(vocab)}\n",
        "\n",
        "  #사전word_to_index 구성\n",
        "  def wordlist_to_indexlist(wordlist):\n",
        "      return [word_to_index[word] if word in word_to_index else word_to_index[''] for word in wordlist]\n",
        "\n",
        "  X_train = list(map(wordlist_to_indexlist, X_train))\n",
        "  X_test = list(map(wordlist_to_indexlist, X_test))\n",
        "\n",
        "  return X_train, np.array(list(train_data['label'])), X_test, np.array(list(test_data['label'])), word_to_index\n",
        "\n",
        "X_train, y_train, X_test, y_test, word_to_index = load_data(train_data, test_data)"
      ],
      "metadata": {
        "colab": {
          "base_uri": "https://localhost:8080/"
        },
        "id": "d9v1T5ggNteT",
        "outputId": "126fcf18-3303-4940-ecd1-e2eb8cd6016d"
      },
      "execution_count": 45,
      "outputs": [
        {
          "output_type": "stream",
          "name": "stdout",
          "text": [
            "10000\n",
            "2\n",
            "(146182, 67)\n",
            "(49157, 67)\n"
          ]
        }
      ]
    },
    {
      "cell_type": "code",
      "source": [
        "#index_to_word생성\n",
        "index_to_word = {index:word for word, index in word_to_index.items()}\n",
        "\n",
        "#\", , \"는 관례적으로 딕셔너리 맨 앞에 넣어줌\n",
        "index_to_word[0]=\"\"  # 패딩용 단어\n",
        "index_to_word[1]=\"\"  # 문장의 시작지점\n",
        "index_to_word[2]=\"\"  # 사전에 없는(Unknown) 단어\n",
        "\n",
        "\n",
        "#딕셔너리를 {텍스트:인덱스}구조로 변환\n",
        "word_to_index = {word:index for index, word in index_to_word.items()}\n",
        "\n",
        "\n",
        "#패딩 추가\n",
        "x_train = tf.keras.preprocessing.sequence.pad_sequences(X_train,\n",
        "                                                        value=word_to_index[\"\"],\n",
        "                                                        padding='pre', # 혹은 'post'\n",
        "                                                        maxlen=67)  ##적절한 최대 문장 길이(maxlen) 지정: (평균 + 4*표준편차)로 가정 => 67\n",
        "\n",
        "x_test = tf.keras.preprocessing.sequence.pad_sequences(X_test,\n",
        "                                                       value=word_to_index[\"\"],\n",
        "                                                       padding='pre', # 혹은 'post'\n",
        "                                                       maxlen=67)\n",
        "\n",
        "print(x_train.shape)  #(146182, 67)\n",
        "print(x_test.shape)   #(49157, 67)"
      ],
      "metadata": {
        "id": "L2_xVOCQRPxQ"
      },
      "execution_count": null,
      "outputs": []
    },
    {
      "cell_type": "code",
      "source": [
        "#validation set 분리\n",
        "\n",
        "import random\n",
        "x_val = x_train[:20000]\n",
        "y_val = y_train[:20000]\n",
        "\n",
        "partial_x_train = x_train[20000:]\n",
        "partial_y_train = y_train[20000:]"
      ],
      "metadata": {
        "id": "8PKSaXr0N7rC"
      },
      "execution_count": 46,
      "outputs": []
    },
    {
      "cell_type": "markdown",
      "source": [
        "모델 선언 및 학습"
      ],
      "metadata": {
        "id": "4DT3NhzXRVzw"
      }
    },
    {
      "cell_type": "code",
      "source": [
        "import tensorflow as tf\n",
        "from tensorflow import keras\n",
        "from tensorflow.keras import layers\n",
        "\n",
        "vocab_size = 8000\n",
        "word_vector_dim = 100\n",
        "\n",
        "inputs = keras.Input(shape=(None,), dtype=\"int64\")\n",
        "x = layers.Embedding(vocab_size, word_vector_dim)(inputs)\n",
        "x = layers.LSTM(128)(x)\n",
        "x = layers.Dropout(0.5)(x)\n",
        "x = layers.Dense(64, activation = 'relu')(x)\n",
        "x = layers.Dropout(0.5)(x)\n",
        "outputs = layers.Dense(1, activation=\"sigmoid\")(x)\n",
        "model = keras.Model(inputs, outputs)\n",
        "model.summary()\n",
        "\n",
        "#모델학습\n",
        "callbacks = [\n",
        "    keras.callbacks.EarlyStopping(monitor = \"val_loss\", verbose = 1, patience = 4),\n",
        "    keras.callbacks.ModelCheckpoint(\"naver_1507.keras\",\n",
        "                                    save_best_only=True)\n",
        "]\n",
        "\n",
        "model.compile(optimizer = 'adam',\n",
        "              loss = 'binary_crossentropy',\n",
        "              metrics = ['accuracy'])\n",
        "\n",
        "history = model.fit(partial_x_train,\n",
        "                    partial_y_train,\n",
        "                    epochs=20,\n",
        "                    batch_size=64,\n",
        "                    validation_data=(x_val, y_val),\n",
        "                    verbose=1,\n",
        "                    callbacks = callbacks)\n",
        "\n",
        "#테스트셋으로 모델 평가\n",
        "model = keras.models.load_model(\"naver_1507.keras\")\n",
        "print(f\"테스트 accuracy: {model.evaluate(x_test, y_test)[1]:.2f}\")"
      ],
      "metadata": {
        "colab": {
          "base_uri": "https://localhost:8080/"
        },
        "id": "MUedsdnUQH-f",
        "outputId": "0d2fe460-178e-48cb-a932-4b89a8a184fc"
      },
      "execution_count": 61,
      "outputs": [
        {
          "output_type": "stream",
          "name": "stdout",
          "text": [
            "Model: \"model_10\"\n",
            "_________________________________________________________________\n",
            " Layer (type)                Output Shape              Param #   \n",
            "=================================================================\n",
            " input_12 (InputLayer)       [(None, None)]            0         \n",
            "                                                                 \n",
            " embedding_11 (Embedding)    (None, None, 100)         800000    \n",
            "                                                                 \n",
            " lstm_11 (LSTM)              (None, 128)               117248    \n",
            "                                                                 \n",
            " dropout_19 (Dropout)        (None, 128)               0         \n",
            "                                                                 \n",
            " dense_34 (Dense)            (None, 64)                8256      \n",
            "                                                                 \n",
            " dropout_20 (Dropout)        (None, 64)                0         \n",
            "                                                                 \n",
            " dense_35 (Dense)            (None, 1)                 65        \n",
            "                                                                 \n",
            "=================================================================\n",
            "Total params: 925,569\n",
            "Trainable params: 925,569\n",
            "Non-trainable params: 0\n",
            "_________________________________________________________________\n",
            "Epoch 1/20\n",
            "1972/1972 [==============================] - 58s 28ms/step - loss: 0.3841 - accuracy: 0.8293 - val_loss: 0.3311 - val_accuracy: 0.8522\n",
            "Epoch 2/20\n",
            "1972/1972 [==============================] - 18s 9ms/step - loss: 0.3015 - accuracy: 0.8739 - val_loss: 0.3148 - val_accuracy: 0.8626\n",
            "Epoch 3/20\n",
            "1972/1972 [==============================] - 18s 9ms/step - loss: 0.2661 - accuracy: 0.8901 - val_loss: 0.3225 - val_accuracy: 0.8617\n",
            "Epoch 4/20\n",
            "1972/1972 [==============================] - 18s 9ms/step - loss: 0.2354 - accuracy: 0.9051 - val_loss: 0.3500 - val_accuracy: 0.8619\n",
            "Epoch 5/20\n",
            "1972/1972 [==============================] - 17s 8ms/step - loss: 0.2061 - accuracy: 0.9164 - val_loss: 0.3606 - val_accuracy: 0.8561\n",
            "Epoch 6/20\n",
            "1972/1972 [==============================] - 17s 8ms/step - loss: 0.1825 - accuracy: 0.9273 - val_loss: 0.4038 - val_accuracy: 0.8553\n",
            "Epoch 6: early stopping\n",
            "1537/1537 [==============================] - 7s 4ms/step - loss: 0.3189 - accuracy: 0.8603\n",
            "테스트 accuracy: 0.86\n"
          ]
        }
      ]
    },
    {
      "cell_type": "markdown",
      "source": [
        "그래프 확인"
      ],
      "metadata": {
        "id": "hgZyo_ElVM-t"
      }
    },
    {
      "cell_type": "code",
      "source": [
        "#history변수에 저장된 매 epoch rain/validation loss, accuracy 그래프 그리기\n",
        "\n",
        "history_dict = history.history\n",
        "\n",
        "acc = history_dict['accuracy']\n",
        "val_acc = history_dict['val_accuracy']\n",
        "loss = history_dict['loss']\n",
        "val_loss = history_dict['val_loss']\n",
        "\n",
        "epochs = range(1, len(acc) + 1)\n",
        "\n",
        "plt.figure(figsize=(12,4))\n",
        "\n",
        "#training & validation loss graph\n",
        "\n",
        "plt.subplot(1,2,1)\n",
        "plt.plot(epochs, loss, 'bo', label='Training loss') # \"bo\"는 \"파란색 점\"입니다\n",
        "plt.plot(epochs, val_loss, 'b', label='Validation loss') # b는 \"파란 실선\"입니다\n",
        "plt.title('Training and validation loss')\n",
        "plt.xlabel('Epochs')\n",
        "plt.ylabel('Loss')\n",
        "plt.legend()\n",
        "\n",
        "#training & validation Accuracy graph\n",
        "plt.subplot(1,2,2)\n",
        "plt.plot(epochs, acc, 'bo', label='Training acc')\n",
        "plt.plot(epochs, val_acc, 'b', label='Validation acc')\n",
        "plt.title('Training and validation accuracy')\n",
        "plt.xlabel('Epochs')\n",
        "plt.ylabel('Accuracy')\n",
        "plt.legend()\n",
        "\n",
        "plt.show()"
      ],
      "metadata": {
        "colab": {
          "base_uri": "https://localhost:8080/",
          "height": 374
        },
        "id": "DUoOUpK8TgWj",
        "outputId": "a5f7c2df-e18d-4bf5-c664-05770ad8161c"
      },
      "execution_count": 56,
      "outputs": [
        {
          "output_type": "display_data",
          "data": {
            "text/plain": [
              "<Figure size 1200x400 with 2 Axes>"
            ],
            "image/png": "[encoded data removed]"
          },
          "metadata": {}
        }
      ]
    }
  ]
}