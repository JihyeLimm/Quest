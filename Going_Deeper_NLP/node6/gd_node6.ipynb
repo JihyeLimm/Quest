{
  "cells": [
    {
      "cell_type": "markdown",
      "metadata": {
        "id": "view-in-github",
        "colab_type": "text"
      },
      "source": [
        "<a href=\"https://colab.research.google.com/github/JihyeLimm/Quest/blob/main/Going_Deeper_NLP/node6/gd_node6.ipynb\" target=\"_parent\"><img src=\"https://colab.research.google.com/assets/colab-badge.svg\" alt=\"Open In Colab\"/></a>"
      ]
    },
    {
      "cell_type": "markdown",
      "metadata": {
        "id": "ZbGLhbs-9UAr"
      },
      "source": [
        "#6. 뉴스 카테고리 다중분류 [프로젝트] - Vocabulary Size 변경\n",
        "1. 분류 모델의 accuracy가 기준 이상 높게 나왔는가?\n",
        ">3가지 단어 개수(모든단어, 빈도수 상위 5000, 직접 설정)에 대해 8가지 머신러닝 기법(나이브 베이즈 분류기, CNB, 로지스틱 회귀, 서포트 벡터 머신, 결정 트리, 랜덤 포레스트, 그래디언트 부스팅 트리, 보팅)을 적용하여 그중 최적의 솔루션을 도출하였다.\n",
        "2. 분류 모델의 F1 score가 기준 이상 높게 나왔는가?\n",
        ">Vocabulary size에 따른 각 머신러닝 모델의 성능변화 추이를 살피고, 해당 머신러닝 알고리즘의 특성에 근거해 원인을 분석하였다.\n",
        "3. 딥러닝 모델을 활용해 성능이 비교 및 확인되었는가?\n",
        ">동일한 데이터셋과 전처리 조건으로 딥러닝 모델(RNN이나 1-D CNN 등)의 성능과 비교하여 결과에 따른 원인을 분석하였다."
      ]
    },
    {
      "cell_type": "markdown",
      "metadata": {
        "id": "6JIyxfMKOoK_"
      },
      "source": [
        "#1. 분류모델 accuracy확인"
      ]
    },
    {
      "cell_type": "code",
      "execution_count": 1,
      "metadata": {
        "colab": {
          "base_uri": "https://localhost:8080/"
        },
        "id": "FdRWHO-u-aTh",
        "outputId": "646c4ec5-9323-4367-c22f-6b211acefb35"
      },
      "outputs": [
        {
          "output_type": "stream",
          "name": "stderr",
          "text": [
            "[nltk_data] Downloading package punkt to /root/nltk_data...\n",
            "[nltk_data]   Package punkt is already up-to-date!\n",
            "[nltk_data] Downloading package wordnet to /root/nltk_data...\n",
            "[nltk_data]   Package wordnet is already up-to-date!\n",
            "[nltk_data] Downloading package stopwords to /root/nltk_data...\n",
            "[nltk_data]   Package stopwords is already up-to-date!\n"
          ]
        },
        {
          "output_type": "execute_result",
          "data": {
            "text/plain": [
              "True"
            ]
          },
          "metadata": {},
          "execution_count": 1
        }
      ],
      "source": [
        "import os\n",
        "import tensorflow as tf\n",
        "from tensorflow import keras\n",
        "from tensorflow.keras import layers\n",
        "from tensorflow.keras.initializers import Constant\n",
        "from tensorflow.keras.datasets import reuters\n",
        "from keras.utils import pad_sequences\n",
        "from keras.layers import Input, Embedding, GRU, Dense\n",
        "from keras.models import Model\n",
        "\n",
        "import matplotlib.pyplot as plt\n",
        "import seaborn\n",
        "import numpy as np\n",
        "import pandas as pd\n",
        "import random\n",
        "import sklearn\n",
        "\n",
        "\n",
        "import urllib.request\n",
        "from sklearn.feature_extraction.text import CountVectorizer\n",
        "from sklearn.feature_extraction.text import TfidfVectorizer\n",
        "from sklearn.feature_extraction.text import TfidfTransformer\n",
        "import nltk\n",
        "from nltk.corpus import stopwords\n",
        "from nltk.stem import WordNetLemmatizer\n",
        "\n",
        "from sklearn.naive_bayes import MultinomialNB #다항분포 나이브 베이즈 모델\n",
        "from sklearn.linear_model import LogisticRegression, SGDClassifier\n",
        "from sklearn.naive_bayes import ComplementNB\n",
        "from sklearn.tree import DecisionTreeClassifier\n",
        "from sklearn.ensemble import RandomForestClassifier\n",
        "from sklearn.ensemble import GradientBoostingClassifier\n",
        "from sklearn.ensemble import VotingClassifier\n",
        "from sklearn.svm import LinearSVC\n",
        "from sklearn.metrics import accuracy_score #정확도 계산\n",
        "from sklearn.metrics import classification_report\n",
        "from sklearn.metrics import confusion_matrix\n",
        "\n",
        "\n",
        "nltk.download('punkt')\n",
        "nltk.download('wordnet')\n",
        "nltk.download('stopwords')"
      ]
    },
    {
      "cell_type": "markdown",
      "metadata": {
        "id": "HJFFr0ck-M4V"
      },
      "source": [
        "데이터 다운로드\n"
      ]
    },
    {
      "cell_type": "code",
      "execution_count": 2,
      "metadata": {
        "colab": {
          "base_uri": "https://localhost:8080/"
        },
        "id": "YWR1MlaY_BG9",
        "outputId": "31a5fa68-4e5a-457e-8a20-6672e458d74a"
      },
      "outputs": [
        {
          "output_type": "stream",
          "name": "stdout",
          "text": [
            "훈련 샘플의 수: 8982\n",
            "테스트 샘플의 수: 2246\n"
          ]
        }
      ],
      "source": [
        "#num_words = [None, 5000, 10000]\n",
        "(x_train_N, y_train_N), (x_test_N, y_test_N) = reuters.load_data(num_words=None, test_split=0.2)\n",
        "(x_train_5, y_train_5), (x_test_5, y_test_5) = reuters.load_data(num_words=5000, test_split=0.2)\n",
        "(x_train_1, y_train_1), (x_test_1, y_test_1) = reuters.load_data(num_words=1000, test_split=0.2)\n",
        "\n",
        "print('훈련 샘플의 수: {}'.format(len(x_train_N)))   #8982\n",
        "print('테스트 샘플의 수: {}'.format(len(x_test_N)))  #2246"
      ]
    },
    {
      "cell_type": "code",
      "execution_count": 3,
      "metadata": {
        "colab": {
          "base_uri": "https://localhost:8080/"
        },
        "id": "OPbhIQg3-qLr",
        "outputId": "dae739aa-c3a5-4a36-c019-2614ed0cce23"
      },
      "outputs": [
        {
          "output_type": "stream",
          "name": "stdout",
          "text": [
            "n_words = None: <sos> mcgrath rentcorp said as a result of its december acquisition of space co it expects earnings per share in 1987 of 1 15 to 1 30 dlrs per share up from 70 cts in 1986 the company said pretax net should rise to nine to 10 mln dlrs from six mln dlrs in 1986 and rental operation revenues to 19 to 22 mln dlrs from 12 5 mln dlrs it said cash flow per share this year should be 2 50 to three dlrs reuter 3\n",
            "n_words = 5000: <sos> <unk> <unk> said as a result of its december acquisition of space co it expects earnings per share in 1987 of 1 15 to 1 30 dlrs per share up from 70 cts in 1986 the company said pretax net should rise to nine to 10 mln dlrs from six mln dlrs in 1986 and rental operation revenues to 19 to 22 mln dlrs from 12 5 mln dlrs it said cash flow per share this year should be 2 50 to three dlrs reuter 3\n",
            "n_words = 1000: <sos> <unk> <unk> said as a result of its december acquisition of <unk> co it expects earnings per share in 1987 of 1 15 to 1 30 dlrs per share up from 70 cts in 1986 the company said pretax net should rise to nine to 10 mln dlrs from six mln dlrs in 1986 and <unk> <unk> revenues to 19 to 22 mln dlrs from 12 5 mln dlrs it said cash <unk> per share this year should be 2 50 to three dlrs reuter 3\n"
          ]
        }
      ],
      "source": [
        "#'단어'를 key값으로, 고유한 '정수'를 value로 가지는 dictionary\n",
        "word_index = reuters.get_word_index(path=\"reuters_word_index.json\")\n",
        "index_to_word = { index+3 : word for word, index in word_index.items() }\n",
        "\n",
        "#index_to_word에 <pad>, <sos>, <unk> 토큰 추가\n",
        "for index, token in enumerate((\"<pad>\", \"<sos>\", \"<unk>\")):\n",
        "  index_to_word[index]=token\n",
        "\n",
        "print(\"n_words = None: \" + ' '.join([index_to_word[index] for index in x_train_N[0]]))\n",
        "print(\"n_words = 5000: \" + ' '.join([index_to_word[index] for index in x_train_5[0]]))\n",
        "print(\"n_words = 1000: \" + ' '.join([index_to_word[index] for index in x_train_1[0]]))"
      ]
    },
    {
      "cell_type": "code",
      "execution_count": 4,
      "metadata": {
        "colab": {
          "base_uri": "https://localhost:8080/"
        },
        "id": "IiIhsWMDb_Zf",
        "outputId": "ac2e9b1d-ff1e-4d27-b8ec-f9b85992d03f"
      },
      "outputs": [
        {
          "output_type": "stream",
          "name": "stdout",
          "text": [
            "<pad>\n",
            "<sos>\n",
            "<unk>\n"
          ]
        }
      ],
      "source": [
        "print(index_to_word[0])\n",
        "print(index_to_word[1])\n",
        "print(index_to_word[2])"
      ]
    },
    {
      "cell_type": "markdown",
      "metadata": {
        "id": "Zu_N3KJD-SLa"
      },
      "source": [
        "데이터 전처리"
      ]
    },
    {
      "cell_type": "code",
      "execution_count": 5,
      "metadata": {
        "colab": {
          "base_uri": "https://localhost:8080/"
        },
        "id": "3mrlmCRuAqSh",
        "outputId": "bd109a4f-876f-49ca-a7a8-08a4886203c6"
      },
      "outputs": [
        {
          "output_type": "stream",
          "name": "stdout",
          "text": [
            "8982\n",
            "2246\n"
          ]
        }
      ],
      "source": [
        "#전체 훈련용 뉴스 데이터와 전체 테스트용 뉴스 데이터를 텍스트 데이터로 변환\n",
        "def ind_tex(x_train, x_test):\n",
        "  decoded = []\n",
        "  for i in range(len(x_train)):\n",
        "      t = ' '.join([index_to_word[index] for index in x_train[i]])\n",
        "      decoded.append(t)\n",
        "\n",
        "  x_train = decoded\n",
        "\n",
        "  decoded = []\n",
        "  for i in range(len(x_test)):\n",
        "      t = ' '.join([index_to_word[index] for index in x_test[i]])\n",
        "      decoded.append(t)\n",
        "\n",
        "  x_test = decoded\n",
        "\n",
        "  return x_train, x_test\n",
        "\n",
        "x_train_N, x_test_N = ind_tex(x_train_N, x_test_N)\n",
        "x_train_5, x_test_5 = ind_tex(x_train_5, x_test_5)\n",
        "x_train_1, x_test_1 = ind_tex(x_train_1, x_test_1)\n",
        "print(len(x_train_1))  #8982\n",
        "print(len(x_test_1))   #2246"
      ]
    },
    {
      "cell_type": "markdown",
      "metadata": {
        "id": "1EKc_k_KBMI-"
      },
      "source": [
        "벡터화하기"
      ]
    },
    {
      "cell_type": "code",
      "execution_count": 6,
      "metadata": {
        "colab": {
          "base_uri": "https://localhost:8080/"
        },
        "id": "YpBeX92jBI0i",
        "outputId": "0d6a91b3-9196-4903-caa0-e26bf87a35cd"
      },
      "outputs": [
        {
          "output_type": "stream",
          "name": "stdout",
          "text": [
            "(8982, 26506) (2246, 26506)\n",
            "(8982, 4867) (2246, 4867)\n",
            "(8982, 969) (2246, 969)\n"
          ]
        }
      ],
      "source": [
        "def dtm_tfidf(x_train, x_test):\n",
        "  dtmvector = CountVectorizer() #Document Term Matrix, DTM\n",
        "  tfidf_transformer = TfidfTransformer()  #DTM을 TF-IDF 행렬로 변환\n",
        "\n",
        "  #train_data\n",
        "  x_train_dtm = dtmvector.fit_transform(x_train)\n",
        "  tfidfv_train = tfidf_transformer.fit_transform(x_train_dtm)\n",
        "\n",
        "  #test data\n",
        "  x_test_dtm = dtmvector.transform(x_test)\n",
        "  tfidfv_test = tfidf_transformer.transform(x_test_dtm)\n",
        "  return tfidfv_train, tfidfv_test\n",
        "\n",
        "\n",
        "tfidfv_N, tfidfv_t_N = dtm_tfidf(x_train_N, x_test_N)\n",
        "tfidfv_5, tfidfv_t_5 = dtm_tfidf(x_train_5, x_test_5)\n",
        "tfidfv_1, tfidfv_t_1 = dtm_tfidf(x_train_1, x_test_1)\n",
        "\n",
        "print(tfidfv_N.shape, tfidfv_t_N.shape)   #(8982, 26506) (2246, 26506)\n",
        "print(tfidfv_5.shape, tfidfv_t_5.shape)   #(8982, 4867) (2246, 4867)\n",
        "print(tfidfv_1.shape, tfidfv_t_1.shape)   #(8982, 969) (2246, 969)"
      ]
    },
    {
      "cell_type": "markdown",
      "metadata": {
        "id": "7aPdO1MtD_L6"
      },
      "source": [
        "8가지 머신러닝 기법"
      ]
    },
    {
      "cell_type": "code",
      "execution_count": 7,
      "metadata": {
        "id": "IFsj6-l0JWeB"
      },
      "outputs": [],
      "source": [
        "#method = [nb, cnb, lr, lsvc, tree, forest, grbt, voting]\n",
        "#tfidfv_train = [tfidfv_N, tfidfv_5, tfidfv_1]\n",
        "#tfidfv_test = [tfidfv_t_N, tfidfv_t_5, tfidfv_t_1]\n",
        "\n",
        "def machine(method, tfidfv_train, y_train, tfidfv_test, y_test):\n",
        "    if method == \"nb\":\n",
        "        model = MultinomialNB()\n",
        "    elif method == \"cnb\":\n",
        "        model = ComplementNB()\n",
        "    elif method == \"lr\":\n",
        "        model = LogisticRegression(C=10000, penalty='l2', max_iter=3000)\n",
        "    elif method == \"lsvc\":\n",
        "        model = LinearSVC(C=1000, penalty='l1', max_iter=3000, dual=False)\n",
        "    elif method == \"tree\":\n",
        "        model = DecisionTreeClassifier(max_depth=10, random_state=0)\n",
        "    elif method == \"forest\":\n",
        "        model = RandomForestClassifier(n_estimators=5, random_state=0)\n",
        "    elif method == \"grbt\":\n",
        "        model = GradientBoostingClassifier(random_state=0)\n",
        "    elif method == \"voting\":\n",
        "        lr = LogisticRegression(C=10000, penalty='l2', max_iter=3000)\n",
        "        cb = ComplementNB()\n",
        "        grbt = GradientBoostingClassifier(random_state=0)\n",
        "        model = VotingClassifier(estimators=[('lr', lr), ('cb', cb), ('grbt', grbt)], voting='soft', verbose=1)\n",
        "    else:\n",
        "        raise ValueError(\"Invalid method\")\n",
        "\n",
        "    model.fit(tfidfv_train, y_train)\n",
        "    predicted = model.predict(tfidfv_test)\n",
        "    return method, accuracy_score(y_test, predicted)"
      ]
    },
    {
      "cell_type": "markdown",
      "metadata": {
        "id": "ny7bcbOVCx_K"
      },
      "source": [
        "1. 나이브베이즈 분류기"
      ]
    },
    {
      "cell_type": "code",
      "execution_count": null,
      "metadata": {
        "colab": {
          "base_uri": "https://localhost:8080/"
        },
        "id": "qPWlkYSiKMyL",
        "outputId": "17426a11-6a84-491e-dc1c-3ec0b5b59902"
      },
      "outputs": [
        {
          "name": "stdout",
          "output_type": "stream",
          "text": [
            "1000:  ('nb', 0.6856634016028496)\n",
            "5000:  ('nb', 0.6731967943009796)\n",
            "None:  ('nb', 0.5997328584149599)\n"
          ]
        }
      ],
      "source": [
        "#num_words=1000\n",
        "print(\"1000: \", machine(\"nb\", tfidfv_1, y_train_1, tfidfv_t_1, y_test_1))\n",
        "#num_words=5000\n",
        "print(\"5000: \", machine(\"nb\", tfidfv_5, y_train_5, tfidfv_t_5, y_test_5))\n",
        "#num_words=None\n",
        "print(\"None: \", machine(\"nb\", tfidfv_N, y_train_N, tfidfv_t_N, y_test_N))"
      ]
    },
    {
      "cell_type": "markdown",
      "metadata": {
        "id": "5enalL6FDG5b"
      },
      "source": [
        "2. Complement Naive Bayes Classifier(CNB)"
      ]
    },
    {
      "cell_type": "code",
      "execution_count": null,
      "metadata": {
        "colab": {
          "base_uri": "https://localhost:8080/"
        },
        "id": "xhIzVP1NDMkl",
        "outputId": "e869201a-cf0b-4afe-cad6-c2fa026f91ec"
      },
      "outputs": [
        {
          "name": "stdout",
          "output_type": "stream",
          "text": [
            "1000:  ('cnb', 0.7346393588601959)\n",
            "5000:  ('cnb', 0.7707034728406055)\n",
            "None:  ('cnb', 0.7649154051647373)\n"
          ]
        }
      ],
      "source": [
        "print(\"1000: \", machine(\"cnb\", tfidfv_1, y_train_1, tfidfv_t_1, y_test_1))\n",
        "print(\"5000: \", machine(\"cnb\", tfidfv_5, y_train_5, tfidfv_t_5, y_test_5))\n",
        "print(\"None: \", machine(\"cnb\", tfidfv_N, y_train_N, tfidfv_t_N, y_test_N))"
      ]
    },
    {
      "cell_type": "markdown",
      "metadata": {
        "id": "apreZu2LDN17"
      },
      "source": [
        "3. 로지스틱 회귀(Logistic Regression)"
      ]
    },
    {
      "cell_type": "code",
      "execution_count": null,
      "metadata": {
        "colab": {
          "base_uri": "https://localhost:8080/"
        },
        "id": "ZVrWR5PfDQIx",
        "outputId": "bbec9ec4-85e9-4950-8707-799a0dfbed9a"
      },
      "outputs": [
        {
          "name": "stdout",
          "output_type": "stream",
          "text": [
            "1000:  ('lr', 0.738646482635797)\n",
            "5000:  ('lr', 0.8032056990204809)\n",
            "None:  ('lr', 0.8161175422974176)\n"
          ]
        }
      ],
      "source": [
        "print(\"1000: \", machine(\"lr\", tfidfv_1, y_train_1, tfidfv_t_1, y_test_1))\n",
        "print(\"5000: \", machine(\"lr\", tfidfv_5, y_train_5, tfidfv_t_5, y_test_5))\n",
        "print(\"None: \", machine(\"lr\", tfidfv_N, y_train_N, tfidfv_t_N, y_test_N))"
      ]
    },
    {
      "cell_type": "markdown",
      "metadata": {
        "id": "3zsRyZ26DRNF"
      },
      "source": [
        "4. 선형 서포트 벡터 머신(Linear Support Vector Machine)"
      ]
    },
    {
      "cell_type": "code",
      "execution_count": 40,
      "metadata": {
        "id": "iq71uE0-DS6x",
        "colab": {
          "base_uri": "https://localhost:8080/"
        },
        "outputId": "7dae2aa6-8c51-4a9c-acca-0c4475e6762f"
      },
      "outputs": [
        {
          "output_type": "stream",
          "name": "stderr",
          "text": [
            "/usr/local/lib/python3.10/dist-packages/sklearn/svm/_base.py:1244: ConvergenceWarning: Liblinear failed to converge, increase the number of iterations.\n",
            "  warnings.warn(\n"
          ]
        },
        {
          "output_type": "stream",
          "name": "stdout",
          "text": [
            "1000:  ('lsvc', 0.723953695458593)\n"
          ]
        },
        {
          "output_type": "stream",
          "name": "stderr",
          "text": [
            "/usr/local/lib/python3.10/dist-packages/sklearn/svm/_base.py:1244: ConvergenceWarning: Liblinear failed to converge, increase the number of iterations.\n",
            "  warnings.warn(\n"
          ]
        },
        {
          "output_type": "stream",
          "name": "stdout",
          "text": [
            "5000:  ('lsvc', 0.7689225289403384)\n",
            "None:  ('lsvc', 0.7920747996438112)\n"
          ]
        },
        {
          "output_type": "stream",
          "name": "stderr",
          "text": [
            "/usr/local/lib/python3.10/dist-packages/sklearn/svm/_base.py:1244: ConvergenceWarning: Liblinear failed to converge, increase the number of iterations.\n",
            "  warnings.warn(\n"
          ]
        }
      ],
      "source": [
        "print(\"1000: \", machine(\"lsvc\", tfidfv_1, y_train_1, tfidfv_t_1, y_test_1))\n",
        "print(\"5000: \", machine(\"lsvc\", tfidfv_5, y_train_5, tfidfv_t_5, y_test_5))\n",
        "print(\"None: \", machine(\"lsvc\", tfidfv_N, y_train_N, tfidfv_t_N, y_test_N))"
      ]
    },
    {
      "cell_type": "markdown",
      "metadata": {
        "id": "hekQaBiZDUZa"
      },
      "source": [
        "5. 결정 트리(Decision Tree)"
      ]
    },
    {
      "cell_type": "code",
      "execution_count": 41,
      "metadata": {
        "id": "Y7Ro3dvIDWGm",
        "colab": {
          "base_uri": "https://localhost:8080/"
        },
        "outputId": "8d6f75a8-9324-40ac-c006-e1ac5256e2cb"
      },
      "outputs": [
        {
          "output_type": "stream",
          "name": "stdout",
          "text": [
            "1000:  ('tree', 0.6179875333926982)\n",
            "5000:  ('tree', 0.6179875333926982)\n",
            "None:  ('tree', 0.6211041852181657)\n"
          ]
        }
      ],
      "source": [
        "print(\"1000: \", machine(\"tree\", tfidfv_1, y_train_1, tfidfv_t_1, y_test_1))\n",
        "print(\"5000: \", machine(\"tree\", tfidfv_5, y_train_5, tfidfv_t_5, y_test_5))\n",
        "print(\"None: \", machine(\"tree\", tfidfv_N, y_train_N, tfidfv_t_N, y_test_N))"
      ]
    },
    {
      "cell_type": "markdown",
      "metadata": {
        "id": "uPQXJY7VDXTw"
      },
      "source": [
        "6. 랜덤 포레스트(Random Forest)"
      ]
    },
    {
      "cell_type": "code",
      "execution_count": 42,
      "metadata": {
        "id": "Lt1teHjGDY0p",
        "colab": {
          "base_uri": "https://localhost:8080/"
        },
        "outputId": "8e62be46-efb9-451d-a1b4-c637da6d7b94"
      },
      "outputs": [
        {
          "output_type": "stream",
          "name": "stdout",
          "text": [
            "1000:  ('forest', 0.707479964381122)\n",
            "5000:  ('forest', 0.701246660730187)\n",
            "None:  ('forest', 0.6544968833481746)\n"
          ]
        }
      ],
      "source": [
        "print(\"1000: \", machine(\"forest\", tfidfv_1, y_train_1, tfidfv_t_1, y_test_1))\n",
        "print(\"5000: \", machine(\"forest\", tfidfv_5, y_train_5, tfidfv_t_5, y_test_5))\n",
        "print(\"None: \", machine(\"forest\", tfidfv_N, y_train_N, tfidfv_t_N, y_test_N))"
      ]
    },
    {
      "cell_type": "markdown",
      "metadata": {
        "id": "BVhajo8yDb2Z"
      },
      "source": [
        "7. 그래디언트 부스팅 트리(GradientBoostingClassifier)"
      ]
    },
    {
      "cell_type": "code",
      "execution_count": 45,
      "metadata": {
        "id": "ns8IfvnTDbU6",
        "colab": {
          "base_uri": "https://localhost:8080/"
        },
        "outputId": "c9ec260f-0fea-4f41-def0-109f6cc64c40"
      },
      "outputs": [
        {
          "output_type": "stream",
          "name": "stdout",
          "text": [
            "1000:  ('grbt', 0.7453250222617988)\n",
            "5000:  ('grbt', 0.767586821015138)\n",
            "None:  ('grbt', 0.7702582368655387)\n"
          ]
        }
      ],
      "source": [
        "print(\"1000: \", machine(\"grbt\", tfidfv_1, y_train_1, tfidfv_t_1, y_test_1))\n",
        "print(\"5000: \", machine(\"grbt\", tfidfv_5, y_train_5, tfidfv_t_5, y_test_5))\n",
        "print(\"None: \", machine(\"grbt\", tfidfv_N, y_train_N, tfidfv_t_N, y_test_N))"
      ]
    },
    {
      "cell_type": "markdown",
      "metadata": {
        "id": "m2gNJc_HDfLG"
      },
      "source": [
        "8. 소프트보팅"
      ]
    },
    {
      "cell_type": "code",
      "execution_count": 8,
      "metadata": {
        "id": "eMzWkyjKDhW9",
        "colab": {
          "base_uri": "https://localhost:8080/"
        },
        "outputId": "77718676-3101-45e4-dc27-634aa8bd07ac"
      },
      "outputs": [
        {
          "output_type": "stream",
          "name": "stdout",
          "text": [
            "[Voting] ....................... (1 of 3) Processing lr, total= 6.4min\n",
            "[Voting] ....................... (2 of 3) Processing cb, total=   0.1s\n",
            "[Voting] ..................... (3 of 3) Processing grbt, total=14.0min\n",
            "1000:  ('voting', 0.7644701691896705)\n",
            "[Voting] ....................... (1 of 3) Processing lr, total= 6.6min\n",
            "[Voting] ....................... (2 of 3) Processing cb, total=   0.1s\n",
            "[Voting] ..................... (3 of 3) Processing grbt, total=17.5min\n",
            "5000:  ('voting', 0.8103294746215495)\n",
            "[Voting] ....................... (1 of 3) Processing lr, total=11.4min\n",
            "[Voting] ....................... (2 of 3) Processing cb, total=   0.1s\n",
            "[Voting] ..................... (3 of 3) Processing grbt, total=19.3min\n",
            "None:  ('voting', 0.8156723063223509)\n"
          ]
        }
      ],
      "source": [
        "print(\"1000: \", machine(\"voting\", tfidfv_1, y_train_1, tfidfv_t_1, y_test_1))\n",
        "print(\"5000: \", machine(\"voting\", tfidfv_5, y_train_5, tfidfv_t_5, y_test_5))\n",
        "print(\"None: \", machine(\"voting\", tfidfv_N, y_train_N, tfidfv_t_N, y_test_N))"
      ]
    },
    {
      "cell_type": "markdown",
      "metadata": {
        "id": "fkBoTdfvOmCl"
      },
      "source": [
        "#2. 분류 모델의 F1 score"
      ]
    },
    {
      "cell_type": "code",
      "execution_count": null,
      "metadata": {
        "colab": {
          "background_save": true
        },
        "id": "lAeNSFXyOtj4",
        "outputId": "a2e0b261-49f9-4884-b6f5-c41e43e5e4b9"
      },
      "outputs": [
        {
          "name": "stdout",
          "output_type": "stream",
          "text": [
            "              precision    recall  f1-score   support\n",
            "\n",
            "           0       0.89      0.67      0.76        12\n",
            "           1       0.75      0.79      0.77       105\n",
            "           2       0.78      0.70      0.74        20\n",
            "           3       0.92      0.93      0.93       813\n",
            "           4       0.81      0.88      0.84       474\n",
            "           5       1.00      0.20      0.33         5\n",
            "           6       0.93      0.93      0.93        14\n",
            "           7       1.00      0.33      0.50         3\n",
            "           8       0.71      0.71      0.71        38\n",
            "           9       0.85      0.88      0.86        25\n",
            "          10       0.93      0.90      0.92        30\n",
            "          11       0.67      0.72      0.70        83\n",
            "          12       0.57      0.31      0.40        13\n",
            "          13       0.64      0.62      0.63        37\n",
            "          14       0.67      1.00      0.80         2\n",
            "          15       0.80      0.44      0.57         9\n",
            "          16       0.70      0.77      0.73        99\n",
            "          17       0.82      0.75      0.78        12\n",
            "          18       0.76      0.65      0.70        20\n",
            "          19       0.69      0.73      0.71       133\n",
            "          20       0.64      0.53      0.58        70\n",
            "          21       0.69      0.81      0.75        27\n",
            "          22       1.00      0.14      0.25         7\n",
            "          23       0.64      0.75      0.69        12\n",
            "          24       0.62      0.53      0.57        19\n",
            "          25       0.89      0.77      0.83        31\n",
            "          26       1.00      0.88      0.93         8\n",
            "          27       1.00      0.25      0.40         4\n",
            "          28       0.50      0.30      0.37        10\n",
            "          29       0.57      1.00      0.73         4\n",
            "          30       1.00      0.67      0.80        12\n",
            "          31       0.78      0.54      0.64        13\n",
            "          32       1.00      0.80      0.89        10\n",
            "          33       0.80      0.80      0.80         5\n",
            "          34       0.80      0.57      0.67         7\n",
            "          35       1.00      0.33      0.50         6\n",
            "          36       0.44      0.36      0.40        11\n",
            "          37       0.50      0.50      0.50         2\n",
            "          38       0.50      0.33      0.40         3\n",
            "          39       0.50      0.40      0.44         5\n",
            "          40       1.00      0.20      0.33        10\n",
            "          41       0.75      0.38      0.50         8\n",
            "          42       1.00      0.67      0.80         3\n",
            "          43       0.86      1.00      0.92         6\n",
            "          44       0.67      0.80      0.73         5\n",
            "          45       1.00      1.00      1.00         1\n",
            "\n",
            "    accuracy                           0.82      2246\n",
            "   macro avg       0.78      0.64      0.67      2246\n",
            "weighted avg       0.82      0.82      0.81      2246\n",
            "\n"
          ]
        }
      ],
      "source": [
        "# 정밀도, 재현율, F1점수를 구하는 classification_report() 함수\n",
        "#(\"None: \", machine(\"lr\", tfidfv_N, y_train_N, tfidfv_t_N, y_test_N)) : 최고성능달성\n",
        "model = LogisticRegression(C=10000, penalty='l2', max_iter=3000)\n",
        "model.fit(tfidfv_N, y_train_N)\n",
        "print(classification_report(y_test_N, model.predict(tfidfv_t_N), zero_division=0))"
      ]
    },
    {
      "cell_type": "markdown",
      "metadata": {
        "id": "-PpwGA1dO3bb"
      },
      "source": [
        "#3. 딥러닝 모델RNN과 성능비교"
      ]
    },
    {
      "cell_type": "code",
      "execution_count": 11,
      "metadata": {
        "colab": {
          "base_uri": "https://localhost:8080/"
        },
        "id": "I9BITCpcYuzB",
        "outputId": "dd996f2f-6b8c-48f0-eeeb-b446b96ee27e"
      },
      "outputs": [
        {
          "output_type": "stream",
          "name": "stdout",
          "text": [
            "훈련 샘플의 수: 8982\n",
            "테스트 샘플의 수: 2246\n"
          ]
        }
      ],
      "source": [
        "#데이터 로드\n",
        "(x_train_d, y_train_d), (x_test_d, y_test_d) = reuters.load_data(num_words=5000, test_split=0.2)\n",
        "\n",
        "print('훈련 샘플의 수: {}'.format(len(x_train_d)))   #8982\n",
        "print('테스트 샘플의 수: {}'.format(len(x_test_d)))  #2246"
      ]
    },
    {
      "cell_type": "code",
      "execution_count": 12,
      "metadata": {
        "colab": {
          "base_uri": "https://localhost:8080/",
          "height": 507
        },
        "id": "7ptIcUuvadfb",
        "outputId": "cd2e627e-8c3c-4ed8-c510-8458e43b9dfe"
      },
      "outputs": [
        {
          "output_type": "stream",
          "name": "stdout",
          "text": [
            "문장의 최단 길이: 13\n",
            "문장의 최장 길이: 2376\n",
            "문장의 평균 길이: 145\n"
          ]
        },
        {
          "output_type": "display_data",
          "data": {
            "text/plain": [
              "<Figure size 640x480 with 1 Axes>"
            ],
            "image/png": "[encoded data removed]"
          },
          "metadata": {}
        }
      ],
      "source": [
        "#최단 길이, 최장 길이, 평균 길이를 구한 후 문장 길이 분포를 막대그래프로 표현\n",
        "min_len = 999\n",
        "max_len = 0\n",
        "sum_len = 0\n",
        "\n",
        "for sen in x_train_d:\n",
        "    length = len(sen)\n",
        "    if min_len > length: min_len = length\n",
        "    if max_len < length: max_len = length\n",
        "    sum_len += length\n",
        "\n",
        "print(\"문장의 최단 길이:\", min_len)\n",
        "print(\"문장의 최장 길이:\", max_len)\n",
        "print(\"문장의 평균 길이:\", sum_len // len(x_train_d))\n",
        "\n",
        "sentence_length = np.zeros((max_len), dtype=int)\n",
        "\n",
        "for sen in x_train_d:\n",
        "    sentence_length[len(sen)-1] += 1\n",
        "\n",
        "plt.bar(range(max_len), sentence_length, width=1.0)\n",
        "plt.title(\"Sentence Length Distribution\")\n",
        "plt.show()"
      ]
    },
    {
      "cell_type": "code",
      "execution_count": 13,
      "metadata": {
        "colab": {
          "base_uri": "https://localhost:8080/"
        },
        "id": "cH2qp804a0NR",
        "outputId": "95c6912f-2551-4093-9da6-1efdf779fcc0"
      },
      "outputs": [
        {
          "output_type": "stream",
          "name": "stdout",
          "text": [
            "(8982, 400)\n",
            "(2246, 400)\n"
          ]
        }
      ],
      "source": [
        "#패딩 추가\n",
        "x_train = tf.keras.preprocessing.sequence.pad_sequences(x_train_d,\n",
        "                                                        value=0,\n",
        "                                                        padding='pre', # 혹은 'post'\n",
        "                                                        maxlen=400)\n",
        "\n",
        "x_test = tf.keras.preprocessing.sequence.pad_sequences(x_test_d,\n",
        "                                                       value=0,\n",
        "                                                       padding='pre', # 혹은 'post'\n",
        "                                                       maxlen=400)\n",
        "\n",
        "print(x_train.shape)  #(8982, 400)\n",
        "print(x_test.shape)   #(2246, 400)"
      ]
    },
    {
      "cell_type": "code",
      "execution_count": 14,
      "metadata": {
        "colab": {
          "base_uri": "https://localhost:8080/"
        },
        "id": "vso_qfuXQFZP",
        "outputId": "cff3ad77-fe1f-48d0-dcb3-41f0a4877da9"
      },
      "outputs": [
        {
          "output_type": "stream",
          "name": "stdout",
          "text": [
            "7982\n",
            "1000\n"
          ]
        }
      ],
      "source": [
        "#Validation set 구성\n",
        "x_val = x_train[:1000]\n",
        "y_val = y_train_d[:1000]\n",
        "\n",
        "partial_x_train = x_train[1000:]\n",
        "partial_y_train = y_train_d[1000:]\n",
        "\n",
        "print(len(partial_x_train))\n",
        "print(len(x_val))"
      ]
    },
    {
      "cell_type": "code",
      "execution_count": 15,
      "metadata": {
        "colab": {
          "base_uri": "https://localhost:8080/"
        },
        "id": "tuo4HhlCPzyu",
        "outputId": "70d88274-739f-44ec-8ea5-68151df10271"
      },
      "outputs": [
        {
          "output_type": "stream",
          "name": "stdout",
          "text": [
            "Model: \"model\"\n",
            "_________________________________________________________________\n",
            " Layer (type)                Output Shape              Param #   \n",
            "=================================================================\n",
            " input_1 (InputLayer)        [(None, None)]            0         \n",
            "                                                                 \n",
            " embedding (Embedding)       (None, None, 100)         500000    \n",
            "                                                                 \n",
            " lstm (LSTM)                 (None, 128)               117248    \n",
            "                                                                 \n",
            " dropout (Dropout)           (None, 128)               0         \n",
            "                                                                 \n",
            " dense (Dense)               (None, 46)                5934      \n",
            "                                                                 \n",
            "=================================================================\n",
            "Total params: 623,182\n",
            "Trainable params: 623,182\n",
            "Non-trainable params: 0\n",
            "_________________________________________________________________\n"
          ]
        }
      ],
      "source": [
        "vocab_size = 5000\n",
        "word_vector_dim = 100\n",
        "\n",
        "inputs = keras.Input(shape=(None,), dtype=\"int64\")\n",
        "x = layers.Embedding(vocab_size, word_vector_dim)(inputs)\n",
        "x = layers.LSTM(128)(x)\n",
        "x = layers.Dropout(0.5)(x)\n",
        "outputs = layers.Dense(46, activation=\"softmax\")(x)\n",
        "model = keras.Model(inputs, outputs)\n",
        "model.summary()"
      ]
    },
    {
      "cell_type": "code",
      "execution_count": null,
      "metadata": {
        "colab": {
          "base_uri": "https://localhost:8080/"
        },
        "id": "0FgP2D0-XQiS",
        "outputId": "ed5e830e-df21-428c-caf9-e6db9b3882b2"
      },
      "outputs": [
        {
          "name": "stdout",
          "output_type": "stream",
          "text": [
            "Epoch 1/20\n",
            "63/63 [==============================] - 14s 184ms/step - loss: 1.0359 - accuracy: 0.7310 - val_loss: 1.4087 - val_accuracy: 0.6690\n",
            "Epoch 2/20\n",
            "63/63 [==============================] - 9s 145ms/step - loss: 0.9678 - accuracy: 0.7457 - val_loss: 1.4569 - val_accuracy: 0.6670\n",
            "Epoch 3/20\n",
            "63/63 [==============================] - 9s 142ms/step - loss: 0.8974 - accuracy: 0.7642 - val_loss: 1.3806 - val_accuracy: 0.6750\n",
            "Epoch 4/20\n",
            "63/63 [==============================] - 8s 122ms/step - loss: 0.8691 - accuracy: 0.7706 - val_loss: 1.4451 - val_accuracy: 0.6600\n",
            "Epoch 5/20\n",
            "63/63 [==============================] - 7s 113ms/step - loss: 0.8280 - accuracy: 0.7800 - val_loss: 1.4005 - val_accuracy: 0.6680\n",
            "Epoch 6/20\n",
            "63/63 [==============================] - 7s 104ms/step - loss: 0.7961 - accuracy: 0.7899 - val_loss: 1.3705 - val_accuracy: 0.6820\n",
            "Epoch 7/20\n",
            "63/63 [==============================] - 6s 99ms/step - loss: 0.7574 - accuracy: 0.8013 - val_loss: 1.4863 - val_accuracy: 0.6510\n",
            "Epoch 8/20\n",
            "63/63 [==============================] - 3s 55ms/step - loss: 0.7252 - accuracy: 0.8089 - val_loss: 1.3895 - val_accuracy: 0.6970\n",
            "Epoch 9/20\n",
            "63/63 [==============================] - 3s 55ms/step - loss: 0.6873 - accuracy: 0.8198 - val_loss: 1.4997 - val_accuracy: 0.6800\n",
            "Epoch 10/20\n",
            "63/63 [==============================] - 5s 83ms/step - loss: 0.6568 - accuracy: 0.8295 - val_loss: 1.4894 - val_accuracy: 0.6880\n",
            "Epoch 10: early stopping\n",
            "71/71 [==============================] - 1s 10ms/step - loss: 1.4753 - accuracy: 0.6728\n",
            "테스트 accuracy: 0.67\n"
          ]
        }
      ],
      "source": [
        "#모델학습\n",
        "\n",
        "callbacks = [keras.callbacks.EarlyStopping(monitor = \"val_loss\", verbose = 1, patience = 4),\n",
        "             keras.callbacks.ModelCheckpoint(\"reuter_1522.keras\",\n",
        "                                             save_best_only=True)\n",
        "]\n",
        "\n",
        "model.compile(optimizer = 'rmsprop',\n",
        "              loss = 'sparse_categorical_crossentropy',\n",
        "              metrics = ['accuracy'])\n",
        "\n",
        "history = model.fit(partial_x_train,\n",
        "                    partial_y_train,\n",
        "                    epochs=20,\n",
        "                    batch_size=128,\n",
        "                    validation_data=(x_val, y_val),\n",
        "                    verbose=1,\n",
        "                    callbacks = callbacks)\n",
        "\n",
        "#테스트셋으로 모델 평가\n",
        "model = keras.models.load_model(\"reuter_1522.keras\")    #(\"/gdrive/MyDrive/AIFFEL/230627\")\n",
        "print(f\"테스트 accuracy: {model.evaluate(x_test, y_test_d)[1]:.2f}\")"
      ]
    },
    {
      "cell_type": "markdown",
      "source": [
        "!보충학습\n",
        ">하이퍼파라미터 튜닝(https://www.tensorflow.org/tutorials/keras/keras_tuner?hl=ko)"
      ],
      "metadata": {
        "id": "nNku6NziJZ0-"
      }
    },
    {
      "cell_type": "code",
      "source": [
        "import tensorflow as tf\n",
        "from tensorflow import keras\n",
        "\n",
        "import IPython\n",
        "!pip install -q -U keras-tuner\n",
        "import kerastuner as kt\n",
        "\n",
        "def build_model(hp):\n",
        "    vocab_size = 5000\n",
        "    word_vector_dim = 100\n",
        "\n",
        "    inputs = keras.Input(shape=(None,), dtype=\"int64\")\n",
        "    x = layers.Embedding(vocab_size, word_vector_dim)(inputs)\n",
        "\n",
        "    # Tune the number of LSTM units\n",
        "    hp_units = hp.Int('units', min_value=32, max_value=256, step=32)\n",
        "    x = layers.LSTM(units=hp_units)(x)\n",
        "\n",
        "    x = layers.Dropout(0.5)(x)\n",
        "    outputs = layers.Dense(46, activation=\"softmax\")(x)\n",
        "\n",
        "    model = keras.Model(inputs, outputs)\n",
        "\n",
        "    # Compile the model\n",
        "    model.compile(optimizer='rmsprop',\n",
        "                  loss='sparse_categorical_crossentropy',\n",
        "                  metrics=['accuracy'])\n",
        "\n",
        "    return model\n",
        "\n",
        "tuner = kt.Hyperband(build_model,\n",
        "                     objective='val_accuracy',\n",
        "                     max_epochs=20,\n",
        "                     factor=3,\n",
        "                     directory='my_dir',\n",
        "                     project_name='my_project')\n",
        "\n",
        "callbacks = [keras.callbacks.EarlyStopping(monitor=\"val_loss\", verbose=1, patience=4),\n",
        "             keras.callbacks.ModelCheckpoint(\"reuter_1522.keras\", save_best_only=True)\n",
        "]\n",
        "\n",
        "tuner.search(partial_x_train, partial_y_train, epochs=20, validation_data=(x_val, y_val), callbacks=callbacks)\n",
        "\n",
        "best_model = tuner.get_best_models(num_models=1)[0]\n",
        "best_hyperparameters = tuner.get_best_hyperparameters(num_trials=1)[0]\n",
        "\n",
        "# Train the best model\n",
        "history = best_model.fit(partial_x_train,\n",
        "                         partial_y_train,\n",
        "                         epochs=20,\n",
        "                         batch_size=128,\n",
        "                         validation_data=(x_val, y_val),\n",
        "                         verbose=1,\n",
        "                         callbacks=callbacks)"
      ],
      "metadata": {
        "colab": {
          "base_uri": "https://localhost:8080/"
        },
        "id": "2ANXY3UOylyB",
        "outputId": "e122bb16-ddcd-43dc-8fba-8e47d14486e4"
      },
      "execution_count": 46,
      "outputs": [
        {
          "output_type": "stream",
          "name": "stdout",
          "text": [
            "Trial 8 Complete [00h 01m 08s]\n",
            "val_accuracy: 0.5889999866485596\n",
            "\n",
            "Best val_accuracy So Far: 0.5889999866485596\n",
            "Total elapsed time: 00h 09m 59s\n",
            "Epoch 1/20\n",
            "63/63 [==============================] - 13s 163ms/step - loss: 1.6232 - accuracy: 0.5950 - val_loss: 1.5244 - val_accuracy: 0.5980\n",
            "Epoch 2/20\n",
            "63/63 [==============================] - 10s 156ms/step - loss: 1.5140 - accuracy: 0.6114 - val_loss: 1.5169 - val_accuracy: 0.6100\n",
            "Epoch 3/20\n",
            "63/63 [==============================] - 8s 122ms/step - loss: 1.4488 - accuracy: 0.6308 - val_loss: 1.4623 - val_accuracy: 0.6290\n",
            "Epoch 4/20\n",
            "63/63 [==============================] - 7s 112ms/step - loss: 1.3739 - accuracy: 0.6490 - val_loss: 1.4219 - val_accuracy: 0.6360\n",
            "Epoch 5/20\n",
            "63/63 [==============================] - 5s 79ms/step - loss: 1.3105 - accuracy: 0.6670 - val_loss: 1.4469 - val_accuracy: 0.6240\n",
            "Epoch 6/20\n",
            "63/63 [==============================] - 7s 104ms/step - loss: 1.2603 - accuracy: 0.6776 - val_loss: 1.8029 - val_accuracy: 0.5580\n",
            "Epoch 7/20\n",
            "63/63 [==============================] - 5s 76ms/step - loss: 1.2315 - accuracy: 0.6870 - val_loss: 1.4556 - val_accuracy: 0.6500\n",
            "Epoch 8/20\n",
            "63/63 [==============================] - 5s 76ms/step - loss: 1.1514 - accuracy: 0.7033 - val_loss: 1.3119 - val_accuracy: 0.6670\n",
            "Epoch 9/20\n",
            "63/63 [==============================] - 5s 83ms/step - loss: 1.1315 - accuracy: 0.7061 - val_loss: 1.2917 - val_accuracy: 0.6770\n",
            "Epoch 10/20\n",
            "63/63 [==============================] - 4s 68ms/step - loss: 1.0553 - accuracy: 0.7264 - val_loss: 1.3167 - val_accuracy: 0.6670\n",
            "Epoch 11/20\n",
            "63/63 [==============================] - 4s 63ms/step - loss: 1.0281 - accuracy: 0.7377 - val_loss: 1.3683 - val_accuracy: 0.6680\n",
            "Epoch 12/20\n",
            "63/63 [==============================] - 5s 73ms/step - loss: 1.0540 - accuracy: 0.7279 - val_loss: 1.3681 - val_accuracy: 0.6490\n",
            "Epoch 13/20\n",
            "63/63 [==============================] - 4s 61ms/step - loss: 0.9517 - accuracy: 0.7537 - val_loss: 1.2783 - val_accuracy: 0.6800\n",
            "Epoch 14/20\n",
            "63/63 [==============================] - 3s 48ms/step - loss: 0.9313 - accuracy: 0.7611 - val_loss: 1.3100 - val_accuracy: 0.6780\n",
            "Epoch 15/20\n",
            "63/63 [==============================] - 3s 51ms/step - loss: 0.8969 - accuracy: 0.7700 - val_loss: 1.3546 - val_accuracy: 0.6460\n",
            "Epoch 16/20\n",
            "63/63 [==============================] - 3s 43ms/step - loss: 0.8981 - accuracy: 0.7700 - val_loss: 1.3368 - val_accuracy: 0.6730\n",
            "Epoch 17/20\n",
            "63/63 [==============================] - 3s 49ms/step - loss: 1.0084 - accuracy: 0.7547 - val_loss: 1.3212 - val_accuracy: 0.6960\n",
            "Epoch 17: early stopping\n"
          ]
        }
      ]
    },
    {
      "cell_type": "code",
      "source": [
        "#테스트셋으로 모델 평가\n",
        "model = keras.models.load_model(\"reuter_1522.keras\")    #(\"/gdrive/MyDrive/AIFFEL/230627\")\n",
        "print(f\"테스트 accuracy: {model.evaluate(x_test, y_test_d)[1]:.2f}\")"
      ],
      "metadata": {
        "colab": {
          "base_uri": "https://localhost:8080/"
        },
        "id": "lPCVMTeaAK4-",
        "outputId": "ef603808-d4cd-4e89-c274-e1552640fa92"
      },
      "execution_count": 16,
      "outputs": [
        {
          "output_type": "stream",
          "name": "stdout",
          "text": [
            "71/71 [==============================] - 2s 10ms/step - loss: 1.3133 - accuracy: 0.6817\n",
            "테스트 accuracy: 0.68\n"
          ]
        }
      ]
    }
  ],
  "metadata": {
    "accelerator": "GPU",
    "colab": {
      "provenance": [],
      "authorship_tag": "ABX9TyN5L3LqXOJtkUwtnSpVZral",
      "include_colab_link": true
    },
    "kernelspec": {
      "display_name": "Python 3",
      "name": "python3"
    },
    "language_info": {
      "name": "python"
    }
  },
  "nbformat": 4,
  "nbformat_minor": 0
}